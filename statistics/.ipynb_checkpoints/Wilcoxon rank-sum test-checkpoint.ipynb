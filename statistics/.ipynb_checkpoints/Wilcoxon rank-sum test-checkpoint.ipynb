{
 "cells": [
  {
   "cell_type": "markdown",
   "metadata": {},
   "source": [
    "# Wilcoxon rank-sum test\n",
    "\n",
    "In this notebook, I show a numerical example and give a brief explanation of the Wilcoxon rank-sum test.   \n",
    "\n",
    "## Contents\n",
    "1. [Theory](#theory)    \n",
    "    1.1 [Ranking the data](#ranking)    \n",
    "    1.2 [Rank sums](#rank-sums)   \n",
    "    1.3 [Test statistic](#test-statistic)     \n",
    "    1.4 [z-score](#z-score)\n",
    "2. [Scipy example](#scipy)   \n",
    "\n"
   ]
  },
  {
   "cell_type": "markdown",
   "metadata": {},
   "source": [
    "<a id='theory'></a>\n",
    "## Theory\n",
    "As for other non-parametric tests, the Wilcoxon rank-sum test analyses the ranks of data instead of the bare data.    \n",
    "This is equivalent to the Mann-Whitney test.  \n",
    "\n",
    "### $z$-score    \n",
    "* Mean of rank-sum   \n",
    "$\\overline{W}_s = n_1(n_1+n_2+1)/2$\n",
    "\n",
    "\n",
    "* Standard error    \n",
    "SE$_\\overline{W_s}= \\sqrt{n_1 n_2 (n_1 + n_2 + 1)/12}$\n",
    "\n",
    "\n",
    "* $z$-score    \n",
    "$z = \\frac{\\displaystyle X - \\overline{X}}{\\displaystyle s} = \n",
    "\\frac{\\displaystyle W_s - \\overline{W_s}}\n",
    "{\\displaystyle \\textrm{SE}_{\\overline{W_s}}}$\n",
    "\n",
    "\n",
    "### Assumptions    \n",
    "This is a non-parametric test, i.e., an assumption-free test.   \n",
    "\n",
    "### Usage   \n",
    "This is used to compare the means of two distributions.    \n",
    "The non-parametric equivalent of the independent t-test.\n",
    "\n",
    "To start with this notebook, let's use data from table 15.1 of Discovering Statistics Using SPSS by Andy Field.    \n",
    "This data is a drug experiment with 2 groups of 10 participants.\n",
    "A group is giving a drug (Ecstasy) for depresion and the other are only allowed to drink alcohol, the levels of depression are then meassured using the Beck Depression Inventory the day after and midweek. \n",
    "\n",
    "### Further reading    \n",
    "* Chapter 15 of Discovering Statistics Using SPSS by Andy Field.   "
   ]
  },
  {
   "cell_type": "code",
   "execution_count": 1,
   "metadata": {},
   "outputs": [
    {
     "data": {
      "text/html": [
       "<div>\n",
       "<style>\n",
       "    .dataframe thead tr:only-child th {\n",
       "        text-align: right;\n",
       "    }\n",
       "\n",
       "    .dataframe thead th {\n",
       "        text-align: left;\n",
       "    }\n",
       "\n",
       "    .dataframe tbody tr th {\n",
       "        vertical-align: top;\n",
       "    }\n",
       "</style>\n",
       "<table border=\"1\" class=\"dataframe\">\n",
       "  <thead>\n",
       "    <tr style=\"text-align: right;\">\n",
       "      <th></th>\n",
       "      <th>Drug</th>\n",
       "      <th>BDI Sunday</th>\n",
       "      <th>BDI Wednesday</th>\n",
       "    </tr>\n",
       "    <tr>\n",
       "      <th>Participant</th>\n",
       "      <th></th>\n",
       "      <th></th>\n",
       "      <th></th>\n",
       "    </tr>\n",
       "  </thead>\n",
       "  <tbody>\n",
       "    <tr>\n",
       "      <th>1</th>\n",
       "      <td>Ecstasy</td>\n",
       "      <td>15</td>\n",
       "      <td>28</td>\n",
       "    </tr>\n",
       "    <tr>\n",
       "      <th>2</th>\n",
       "      <td>Ecstasy</td>\n",
       "      <td>35</td>\n",
       "      <td>35</td>\n",
       "    </tr>\n",
       "    <tr>\n",
       "      <th>3</th>\n",
       "      <td>Ecstasy</td>\n",
       "      <td>16</td>\n",
       "      <td>35</td>\n",
       "    </tr>\n",
       "    <tr>\n",
       "      <th>4</th>\n",
       "      <td>Ecstasy</td>\n",
       "      <td>18</td>\n",
       "      <td>24</td>\n",
       "    </tr>\n",
       "    <tr>\n",
       "      <th>5</th>\n",
       "      <td>Ecstasy</td>\n",
       "      <td>19</td>\n",
       "      <td>39</td>\n",
       "    </tr>\n",
       "    <tr>\n",
       "      <th>6</th>\n",
       "      <td>Ecstasy</td>\n",
       "      <td>17</td>\n",
       "      <td>32</td>\n",
       "    </tr>\n",
       "    <tr>\n",
       "      <th>7</th>\n",
       "      <td>Ecstasy</td>\n",
       "      <td>27</td>\n",
       "      <td>27</td>\n",
       "    </tr>\n",
       "    <tr>\n",
       "      <th>8</th>\n",
       "      <td>Ecstasy</td>\n",
       "      <td>16</td>\n",
       "      <td>29</td>\n",
       "    </tr>\n",
       "    <tr>\n",
       "      <th>9</th>\n",
       "      <td>Ecstasy</td>\n",
       "      <td>13</td>\n",
       "      <td>36</td>\n",
       "    </tr>\n",
       "    <tr>\n",
       "      <th>10</th>\n",
       "      <td>Ecstasy</td>\n",
       "      <td>20</td>\n",
       "      <td>35</td>\n",
       "    </tr>\n",
       "    <tr>\n",
       "      <th>11</th>\n",
       "      <td>Alcohol</td>\n",
       "      <td>16</td>\n",
       "      <td>5</td>\n",
       "    </tr>\n",
       "    <tr>\n",
       "      <th>12</th>\n",
       "      <td>Alcohol</td>\n",
       "      <td>15</td>\n",
       "      <td>6</td>\n",
       "    </tr>\n",
       "    <tr>\n",
       "      <th>13</th>\n",
       "      <td>Alcohol</td>\n",
       "      <td>20</td>\n",
       "      <td>30</td>\n",
       "    </tr>\n",
       "    <tr>\n",
       "      <th>14</th>\n",
       "      <td>Alcohol</td>\n",
       "      <td>15</td>\n",
       "      <td>8</td>\n",
       "    </tr>\n",
       "    <tr>\n",
       "      <th>15</th>\n",
       "      <td>Alcohol</td>\n",
       "      <td>16</td>\n",
       "      <td>9</td>\n",
       "    </tr>\n",
       "    <tr>\n",
       "      <th>16</th>\n",
       "      <td>Alcohol</td>\n",
       "      <td>13</td>\n",
       "      <td>7</td>\n",
       "    </tr>\n",
       "    <tr>\n",
       "      <th>17</th>\n",
       "      <td>Alcohol</td>\n",
       "      <td>14</td>\n",
       "      <td>6</td>\n",
       "    </tr>\n",
       "    <tr>\n",
       "      <th>18</th>\n",
       "      <td>Alcohol</td>\n",
       "      <td>19</td>\n",
       "      <td>17</td>\n",
       "    </tr>\n",
       "    <tr>\n",
       "      <th>19</th>\n",
       "      <td>Alcohol</td>\n",
       "      <td>18</td>\n",
       "      <td>3</td>\n",
       "    </tr>\n",
       "    <tr>\n",
       "      <th>20</th>\n",
       "      <td>Alcohol</td>\n",
       "      <td>18</td>\n",
       "      <td>10</td>\n",
       "    </tr>\n",
       "  </tbody>\n",
       "</table>\n",
       "</div>"
      ],
      "text/plain": [
       "                Drug  BDI Sunday  BDI Wednesday\n",
       "Participant                                    \n",
       "1            Ecstasy          15             28\n",
       "2            Ecstasy          35             35\n",
       "3            Ecstasy          16             35\n",
       "4            Ecstasy          18             24\n",
       "5            Ecstasy          19             39\n",
       "6            Ecstasy          17             32\n",
       "7            Ecstasy          27             27\n",
       "8            Ecstasy          16             29\n",
       "9            Ecstasy          13             36\n",
       "10           Ecstasy          20             35\n",
       "11           Alcohol          16              5\n",
       "12           Alcohol          15              6\n",
       "13           Alcohol          20             30\n",
       "14           Alcohol          15              8\n",
       "15           Alcohol          16              9\n",
       "16           Alcohol          13              7\n",
       "17           Alcohol          14              6\n",
       "18           Alcohol          19             17\n",
       "19           Alcohol          18              3\n",
       "20           Alcohol          18             10"
      ]
     },
     "execution_count": 1,
     "metadata": {},
     "output_type": "execute_result"
    }
   ],
   "source": [
    "import pandas as pd\n",
    "from IPython.display import Markdown, display\n",
    "def printmd(string):\n",
    "    display(Markdown(string))\n",
    "\n",
    "df = pd.read_csv(\"data/data-for-drug-experiment.csv\",index_col=0)\n",
    "df"
   ]
  },
  {
   "cell_type": "markdown",
   "metadata": {},
   "source": [
    "<a id='ranking'></a>\n",
    "## Ranking the data\n",
    "\n",
    "First we need to compute the ranks for each of the distributions.   \n",
    "Ranking the data is done as follows: finding the lowest score and giving it a rank of 1, the next lowest score is given a rank of 2, etc...   \n",
    "In case of tied-ranks (repeated scores), the rank is averaged.    \n",
    "\n",
    "To rank the data we start by sorting the data.    \n",
    "Then we treat tied-ranks    "
   ]
  },
  {
   "cell_type": "code",
   "execution_count": 2,
   "metadata": {},
   "outputs": [],
   "source": [
    "def rank_distribution(dist,column):\n",
    "    \"\"\"Get distribution ranks for non-parametric test\n",
    "    Column: str, column name to get ranking\n",
    "    Input: dataframe with distribution values.\n",
    "    Output: dataframe including ranks\n",
    "    \"\"\"\n",
    "    # Sort values\n",
    "    dist.sort_values(by=column,inplace=True)\n",
    "    ## Convert series to dataframe, to add ranks\n",
    "    #dist = dist.to_frame()\n",
    "    dist['Potential rank']=0\n",
    "    jj=0\n",
    "    for ii in dist.index:\n",
    "        jj = jj + 1\n",
    "        dist.loc[ii,'Potential rank']=jj\n",
    "        \n",
    "    # Get actual ranks by averaging ranks of repeated scores  \n",
    "    # rank table with average (mean) values of ranks group by BDI scores:   \n",
    "    rank = dist.groupby(column).agg({'Potential rank':'mean'})\n",
    "    rank.columns=['Rank']\n",
    "    #\n",
    "    dist = dist.join(rank,on=column)\n",
    "\n",
    "    return dist"
   ]
  },
  {
   "cell_type": "code",
   "execution_count": 3,
   "metadata": {},
   "outputs": [
    {
     "data": {
      "text/html": [
       "<div>\n",
       "<style>\n",
       "    .dataframe thead tr:only-child th {\n",
       "        text-align: right;\n",
       "    }\n",
       "\n",
       "    .dataframe thead th {\n",
       "        text-align: left;\n",
       "    }\n",
       "\n",
       "    .dataframe tbody tr th {\n",
       "        vertical-align: top;\n",
       "    }\n",
       "</style>\n",
       "<table border=\"1\" class=\"dataframe\">\n",
       "  <thead>\n",
       "    <tr style=\"text-align: right;\">\n",
       "      <th></th>\n",
       "      <th>Drug</th>\n",
       "      <th>BDI Sunday</th>\n",
       "      <th>Potential rank</th>\n",
       "      <th>Rank</th>\n",
       "    </tr>\n",
       "    <tr>\n",
       "      <th>Participant</th>\n",
       "      <th></th>\n",
       "      <th></th>\n",
       "      <th></th>\n",
       "      <th></th>\n",
       "    </tr>\n",
       "  </thead>\n",
       "  <tbody>\n",
       "    <tr>\n",
       "      <th>16</th>\n",
       "      <td>Alcohol</td>\n",
       "      <td>13</td>\n",
       "      <td>1</td>\n",
       "      <td>1.5</td>\n",
       "    </tr>\n",
       "    <tr>\n",
       "      <th>9</th>\n",
       "      <td>Ecstasy</td>\n",
       "      <td>13</td>\n",
       "      <td>2</td>\n",
       "      <td>1.5</td>\n",
       "    </tr>\n",
       "    <tr>\n",
       "      <th>17</th>\n",
       "      <td>Alcohol</td>\n",
       "      <td>14</td>\n",
       "      <td>3</td>\n",
       "      <td>3.0</td>\n",
       "    </tr>\n",
       "    <tr>\n",
       "      <th>1</th>\n",
       "      <td>Ecstasy</td>\n",
       "      <td>15</td>\n",
       "      <td>4</td>\n",
       "      <td>5.0</td>\n",
       "    </tr>\n",
       "    <tr>\n",
       "      <th>14</th>\n",
       "      <td>Alcohol</td>\n",
       "      <td>15</td>\n",
       "      <td>5</td>\n",
       "      <td>5.0</td>\n",
       "    </tr>\n",
       "    <tr>\n",
       "      <th>12</th>\n",
       "      <td>Alcohol</td>\n",
       "      <td>15</td>\n",
       "      <td>6</td>\n",
       "      <td>5.0</td>\n",
       "    </tr>\n",
       "  </tbody>\n",
       "</table>\n",
       "</div>"
      ],
      "text/plain": [
       "                Drug  BDI Sunday  Potential rank  Rank\n",
       "Participant                                           \n",
       "16           Alcohol          13               1   1.5\n",
       "9            Ecstasy          13               2   1.5\n",
       "17           Alcohol          14               3   3.0\n",
       "1            Ecstasy          15               4   5.0\n",
       "14           Alcohol          15               5   5.0\n",
       "12           Alcohol          15               6   5.0"
      ]
     },
     "execution_count": 3,
     "metadata": {},
     "output_type": "execute_result"
    }
   ],
   "source": [
    "BDI_Sunday = df[['Drug','BDI Sunday']].copy()\n",
    "BDI_Sunday = rank_distribution(BDI_Sunday,'BDI Sunday')\n",
    "\n",
    "BDI_Sunday.head(6)"
   ]
  },
  {
   "cell_type": "markdown",
   "metadata": {},
   "source": [
    "As you can see, the first two rows have the same BDI and have a rank of 1.5 (the average of 1 and 2) and similar for rows 4 to 6 the rank is 5.0, the average of 4, 5 and 6.\n",
    "\n",
    "We get ranks for the Wednesday's samples:"
   ]
  },
  {
   "cell_type": "code",
   "execution_count": 4,
   "metadata": {},
   "outputs": [
    {
     "data": {
      "text/html": [
       "<div>\n",
       "<style>\n",
       "    .dataframe thead tr:only-child th {\n",
       "        text-align: right;\n",
       "    }\n",
       "\n",
       "    .dataframe thead th {\n",
       "        text-align: left;\n",
       "    }\n",
       "\n",
       "    .dataframe tbody tr th {\n",
       "        vertical-align: top;\n",
       "    }\n",
       "</style>\n",
       "<table border=\"1\" class=\"dataframe\">\n",
       "  <thead>\n",
       "    <tr style=\"text-align: right;\">\n",
       "      <th></th>\n",
       "      <th>Drug</th>\n",
       "      <th>BDI Wednesday</th>\n",
       "      <th>Potential rank</th>\n",
       "      <th>Rank</th>\n",
       "    </tr>\n",
       "    <tr>\n",
       "      <th>Participant</th>\n",
       "      <th></th>\n",
       "      <th></th>\n",
       "      <th></th>\n",
       "      <th></th>\n",
       "    </tr>\n",
       "  </thead>\n",
       "  <tbody>\n",
       "    <tr>\n",
       "      <th>19</th>\n",
       "      <td>Alcohol</td>\n",
       "      <td>3</td>\n",
       "      <td>1</td>\n",
       "      <td>1.0</td>\n",
       "    </tr>\n",
       "    <tr>\n",
       "      <th>11</th>\n",
       "      <td>Alcohol</td>\n",
       "      <td>5</td>\n",
       "      <td>2</td>\n",
       "      <td>2.0</td>\n",
       "    </tr>\n",
       "    <tr>\n",
       "      <th>17</th>\n",
       "      <td>Alcohol</td>\n",
       "      <td>6</td>\n",
       "      <td>3</td>\n",
       "      <td>3.5</td>\n",
       "    </tr>\n",
       "    <tr>\n",
       "      <th>12</th>\n",
       "      <td>Alcohol</td>\n",
       "      <td>6</td>\n",
       "      <td>4</td>\n",
       "      <td>3.5</td>\n",
       "    </tr>\n",
       "    <tr>\n",
       "      <th>16</th>\n",
       "      <td>Alcohol</td>\n",
       "      <td>7</td>\n",
       "      <td>5</td>\n",
       "      <td>5.0</td>\n",
       "    </tr>\n",
       "    <tr>\n",
       "      <th>14</th>\n",
       "      <td>Alcohol</td>\n",
       "      <td>8</td>\n",
       "      <td>6</td>\n",
       "      <td>6.0</td>\n",
       "    </tr>\n",
       "  </tbody>\n",
       "</table>\n",
       "</div>"
      ],
      "text/plain": [
       "                Drug  BDI Wednesday  Potential rank  Rank\n",
       "Participant                                              \n",
       "19           Alcohol              3               1   1.0\n",
       "11           Alcohol              5               2   2.0\n",
       "17           Alcohol              6               3   3.5\n",
       "12           Alcohol              6               4   3.5\n",
       "16           Alcohol              7               5   5.0\n",
       "14           Alcohol              8               6   6.0"
      ]
     },
     "execution_count": 4,
     "metadata": {},
     "output_type": "execute_result"
    }
   ],
   "source": [
    "BDI_Wednesday = df[['Drug','BDI Wednesday']].copy()\n",
    "\n",
    "BDI_Wednesday = rank_distribution(BDI_Wednesday,'BDI Wednesday')\n",
    "\n",
    "BDI_Wednesday.head(6)"
   ]
  },
  {
   "cell_type": "markdown",
   "metadata": {},
   "source": [
    "<a id='rank-sums'></a>\n",
    "## Rank - sums  \n",
    "Let's compute the rank sums $W_s$ "
   ]
  },
  {
   "cell_type": "code",
   "execution_count": 5,
   "metadata": {},
   "outputs": [
    {
     "data": {
      "text/html": [
       "<div>\n",
       "<style>\n",
       "    .dataframe thead tr:only-child th {\n",
       "        text-align: right;\n",
       "    }\n",
       "\n",
       "    .dataframe thead th {\n",
       "        text-align: left;\n",
       "    }\n",
       "\n",
       "    .dataframe tbody tr th {\n",
       "        vertical-align: top;\n",
       "    }\n",
       "</style>\n",
       "<table border=\"1\" class=\"dataframe\">\n",
       "  <thead>\n",
       "    <tr style=\"text-align: right;\">\n",
       "      <th></th>\n",
       "      <th>Rank sum</th>\n",
       "    </tr>\n",
       "    <tr>\n",
       "      <th>Drug</th>\n",
       "      <th></th>\n",
       "    </tr>\n",
       "  </thead>\n",
       "  <tbody>\n",
       "    <tr>\n",
       "      <th>Alcohol</th>\n",
       "      <td>90.5</td>\n",
       "    </tr>\n",
       "    <tr>\n",
       "      <th>Ecstasy</th>\n",
       "      <td>119.5</td>\n",
       "    </tr>\n",
       "  </tbody>\n",
       "</table>\n",
       "</div>"
      ],
      "text/plain": [
       "         Rank sum\n",
       "Drug             \n",
       "Alcohol      90.5\n",
       "Ecstasy     119.5"
      ]
     },
     "execution_count": 5,
     "metadata": {},
     "output_type": "execute_result"
    }
   ],
   "source": [
    "# For Sunday's BDI:\n",
    "\n",
    "rank_sum = BDI_Sunday[['Drug','Rank']].groupby('Drug').agg('sum')\n",
    "rank_sum.columns=['Rank sum']\n",
    "rank_sum\n"
   ]
  },
  {
   "cell_type": "markdown",
   "metadata": {},
   "source": [
    "<a id ='test-statistic'></a>\n",
    "### Test-statistic\n",
    "It turns out that the lowest of the rank sum (90.5) is our test statistic $W_s$.   \n"
   ]
  },
  {
   "cell_type": "code",
   "execution_count": 6,
   "metadata": {},
   "outputs": [
    {
     "data": {
      "text/markdown": [
       "$W_s$ 90.5"
      ],
      "text/plain": [
       "<IPython.core.display.Markdown object>"
      ]
     },
     "metadata": {},
     "output_type": "display_data"
    }
   ],
   "source": [
    "W = rank_sum.values.min()\n",
    "printmd('$W_s$ {}'.format(W))"
   ]
  },
  {
   "cell_type": "markdown",
   "metadata": {},
   "source": [
    "<a id='z-score'></a>\n",
    "### $z$-score    \n",
    "Remember    \n",
    "$z = \\frac{\\displaystyle X - \\overline{X}}{\\displaystyle s} = \n",
    "\\frac{\\displaystyle W_s - \\overline{W_s}}\n",
    "{\\displaystyle \\textrm{SE}_{\\overline{W_s}}}$"
   ]
  },
  {
   "cell_type": "code",
   "execution_count": 7,
   "metadata": {},
   "outputs": [
    {
     "data": {
      "text/markdown": [
       "** Sunday **"
      ],
      "text/plain": [
       "<IPython.core.display.Markdown object>"
      ]
     },
     "metadata": {},
     "output_type": "display_data"
    },
    {
     "data": {
      "text/markdown": [
       "$W_s$ 90.5"
      ],
      "text/plain": [
       "<IPython.core.display.Markdown object>"
      ]
     },
     "metadata": {},
     "output_type": "display_data"
    },
    {
     "data": {
      "text/markdown": [
       "$W_s$ mean 105.0"
      ],
      "text/plain": [
       "<IPython.core.display.Markdown object>"
      ]
     },
     "metadata": {},
     "output_type": "display_data"
    },
    {
     "data": {
      "text/markdown": [
       "SE 13.23"
      ],
      "text/plain": [
       "<IPython.core.display.Markdown object>"
      ]
     },
     "metadata": {},
     "output_type": "display_data"
    },
    {
     "data": {
      "text/markdown": [
       "$z$-score -1.1"
      ],
      "text/plain": [
       "<IPython.core.display.Markdown object>"
      ]
     },
     "metadata": {},
     "output_type": "display_data"
    }
   ],
   "source": [
    "import numpy as np\n",
    "n1 = 10\n",
    "n2 = 10\n",
    "W_mean = n1 *(n1 + n2 + 1.0)/2.0\n",
    "SE  = (n1*n2 * (n1+n2+1.0)/12.0)**0.5\n",
    "\n",
    "# Using the z-score equation the Sunday score is:   \n",
    "z = (W - W_mean)/SE\n",
    "\n",
    "printmd('** Sunday **')\n",
    "printmd('$W_s$ {}'.format(W))\n",
    "printmd('$W_s$ mean {}'.format(W_mean))\n",
    "printmd('SE {}'.format(round(SE,2)))\n",
    "printmd('$z$-score {}'.format(round(z,2)))\n"
   ]
  },
  {
   "cell_type": "code",
   "execution_count": 8,
   "metadata": {},
   "outputs": [
    {
     "data": {
      "text/markdown": [
       "** Wednesday **"
      ],
      "text/plain": [
       "<IPython.core.display.Markdown object>"
      ]
     },
     "metadata": {},
     "output_type": "display_data"
    },
    {
     "data": {
      "text/markdown": [
       "$W_s$ 59.0"
      ],
      "text/plain": [
       "<IPython.core.display.Markdown object>"
      ]
     },
     "metadata": {},
     "output_type": "display_data"
    },
    {
     "data": {
      "text/markdown": [
       "$W_s$ mean 105.0"
      ],
      "text/plain": [
       "<IPython.core.display.Markdown object>"
      ]
     },
     "metadata": {},
     "output_type": "display_data"
    },
    {
     "data": {
      "text/markdown": [
       "SE 13.23"
      ],
      "text/plain": [
       "<IPython.core.display.Markdown object>"
      ]
     },
     "metadata": {},
     "output_type": "display_data"
    },
    {
     "data": {
      "text/markdown": [
       "$z$-score -3.48"
      ],
      "text/plain": [
       "<IPython.core.display.Markdown object>"
      ]
     },
     "metadata": {},
     "output_type": "display_data"
    }
   ],
   "source": [
    "# Compute now the Wednesday z-score\n",
    "# Using the z-score equation the Sunday score is:   \n",
    "\n",
    "rank_sum = BDI_Wednesday[['Drug','Rank']].groupby('Drug').agg('sum')\n",
    "rank_sum.columns=['Rank sum']\n",
    "\n",
    "W = rank_sum.values.min()\n",
    "\n",
    "z = (W - W_mean)/SE\n",
    "\n",
    "printmd('** Wednesday **')\n",
    "printmd('$W_s$ {}'.format(W))\n",
    "printmd('$W_s$ mean {}'.format(W_mean))\n",
    "printmd('SE {}'.format(round(SE,2)))\n",
    "printmd('$z$-score {}'.format(round(z,2)))"
   ]
  },
  {
   "cell_type": "markdown",
   "metadata": {},
   "source": [
    "Compare the $z$-scores to 1.96.   \n",
    "If absolute value is bigger than 1.96, then the test is significant at $\\alpha = 0.5$   \n",
    "In this case, only the test for Wednesday is significant."
   ]
  },
  {
   "cell_type": "markdown",
   "metadata": {},
   "source": [
    "<a id='scipy'></a>\n",
    "## Using scipy   \n",
    "\n",
    "Let's run the same test using python's scipy"
   ]
  },
  {
   "cell_type": "code",
   "execution_count": 17,
   "metadata": {},
   "outputs": [
    {
     "data": {
      "text/markdown": [
       "** Wednesday **"
      ],
      "text/plain": [
       "<IPython.core.display.Markdown object>"
      ]
     },
     "metadata": {},
     "output_type": "display_data"
    },
    {
     "data": {
      "text/markdown": [
       "$z$-score -3.48"
      ],
      "text/plain": [
       "<IPython.core.display.Markdown object>"
      ]
     },
     "metadata": {},
     "output_type": "display_data"
    },
    {
     "data": {
      "text/markdown": [
       "p-value 0.0005"
      ],
      "text/plain": [
       "<IPython.core.display.Markdown object>"
      ]
     },
     "metadata": {},
     "output_type": "display_data"
    },
    {
     "data": {
      "text/markdown": [
       "** Sunday **"
      ],
      "text/plain": [
       "<IPython.core.display.Markdown object>"
      ]
     },
     "metadata": {},
     "output_type": "display_data"
    },
    {
     "data": {
      "text/markdown": [
       "$z$-score -1.1"
      ],
      "text/plain": [
       "<IPython.core.display.Markdown object>"
      ]
     },
     "metadata": {},
     "output_type": "display_data"
    },
    {
     "data": {
      "text/markdown": [
       "p-value 0.273"
      ],
      "text/plain": [
       "<IPython.core.display.Markdown object>"
      ]
     },
     "metadata": {},
     "output_type": "display_data"
    }
   ],
   "source": [
    "from scipy import stats\n",
    "\n",
    "# Let's do the Wednesday sample as an example:   \n",
    "# SELECT 'BDI Wednesday' FROM df WHERE 'Drug'='Alcohol'\n",
    "x = df.loc[df['Drug']=='Alcohol']['BDI Wednesday'].values\n",
    "# SELECT 'BDI Wednesday' FROM df WHERE 'Drug'='Ecstasy'\n",
    "y = df.loc[df['Drug']=='Ecstasy']['BDI Wednesday'].values\n",
    "\n",
    "results = stats.ranksums(x, y)\n",
    "z = results[0]\n",
    "pvalue = results[1]\n",
    "printmd('** Wednesday **')\n",
    "printmd('$z$-score {}'.format(round(z,2)))\n",
    "printmd('p-value {}'.format(round(pvalue,4)))\n",
    "\n",
    "# Let's do the Sunday sample :   \n",
    "# SELECT 'BDI Sunday' FROM df WHERE 'Drug'='Alcohol'\n",
    "x = df.loc[df['Drug']=='Alcohol']['BDI Sunday'].values\n",
    "# SELECT 'BDI Sunday' FROM df WHERE 'Drug'='Ecstasy'\n",
    "y = df.loc[df['Drug']=='Ecstasy']['BDI Sunday'].values\n",
    "\n",
    "results = stats.ranksums(x, y)\n",
    "z = results[0]\n",
    "pvalue = results[1]\n",
    "printmd('** Sunday **')\n",
    "printmd('$z$-score {}'.format(round(z,2)))\n",
    "printmd('p-value {}'.format(round(pvalue,4)))\n"
   ]
  },
  {
   "cell_type": "code",
   "execution_count": null,
   "metadata": {
    "collapsed": true
   },
   "outputs": [],
   "source": []
  }
 ],
 "metadata": {
  "kernelspec": {
   "display_name": "Python 3",
   "language": "python",
   "name": "python3"
  },
  "language_info": {
   "codemirror_mode": {
    "name": "ipython",
    "version": 3
   },
   "file_extension": ".py",
   "mimetype": "text/x-python",
   "name": "python",
   "nbconvert_exporter": "python",
   "pygments_lexer": "ipython3",
   "version": "3.6.1"
  }
 },
 "nbformat": 4,
 "nbformat_minor": 2
}
