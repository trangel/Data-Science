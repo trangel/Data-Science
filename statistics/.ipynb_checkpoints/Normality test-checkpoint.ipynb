{
 "cells": [
  {
   "cell_type": "markdown",
   "metadata": {},
   "source": [
    "# Normality test\n",
    "\n",
    "In this notebook, I go through several normality tests.   \n",
    " \n",
    "\n",
    "The goal here is to test whether a given distribution is normal.   \n",
    "\n",
    "The tests/steps done are:   \n",
    "1. [Standarize data](#section1)\n",
    "2. [Q - Q test](#section2)   \n",
    "3. [Skew and kurtosis test](#section3)   \n",
    "5. [Kolmogorov-Smirnov test](#section4)   \n",
    "6. [$\\chi^2$ test](#section5)"
   ]
  },
  {
   "cell_type": "markdown",
   "metadata": {},
   "source": [
    "<a id='section1'></a>\n",
    "## Standarize data\n",
    "For this notebook, I use a dataset of documents, containing the document id, and its readability score.   \n",
    "The readability score tells how complex is a text to be read.   \n",
    "The contents of the dataset are not important here.   \n"
   ]
  },
  {
   "cell_type": "code",
   "execution_count": 1,
   "metadata": {},
   "outputs": [
    {
     "data": {
      "text/html": [
       "<div>\n",
       "<style>\n",
       "    .dataframe thead tr:only-child th {\n",
       "        text-align: right;\n",
       "    }\n",
       "\n",
       "    .dataframe thead th {\n",
       "        text-align: left;\n",
       "    }\n",
       "\n",
       "    .dataframe tbody tr th {\n",
       "        vertical-align: top;\n",
       "    }\n",
       "</style>\n",
       "<table border=\"1\" class=\"dataframe\">\n",
       "  <thead>\n",
       "    <tr style=\"text-align: right;\">\n",
       "      <th></th>\n",
       "      <th>Readability</th>\n",
       "    </tr>\n",
       "    <tr>\n",
       "      <th>post id</th>\n",
       "      <th></th>\n",
       "    </tr>\n",
       "  </thead>\n",
       "  <tbody>\n",
       "    <tr>\n",
       "      <th>0</th>\n",
       "      <td>11.6</td>\n",
       "    </tr>\n",
       "    <tr>\n",
       "      <th>1</th>\n",
       "      <td>6.9</td>\n",
       "    </tr>\n",
       "    <tr>\n",
       "      <th>2</th>\n",
       "      <td>6.3</td>\n",
       "    </tr>\n",
       "    <tr>\n",
       "      <th>3</th>\n",
       "      <td>4.0</td>\n",
       "    </tr>\n",
       "    <tr>\n",
       "      <th>4</th>\n",
       "      <td>9.2</td>\n",
       "    </tr>\n",
       "  </tbody>\n",
       "</table>\n",
       "</div>"
      ],
      "text/plain": [
       "         Readability\n",
       "post id             \n",
       "0               11.6\n",
       "1                6.9\n",
       "2                6.3\n",
       "3                4.0\n",
       "4                9.2"
      ]
     },
     "execution_count": 1,
     "metadata": {},
     "output_type": "execute_result"
    }
   ],
   "source": [
    "# This is to print in markdown style\n",
    "from IPython.display import Markdown, display\n",
    "def printmd(string):\n",
    "    display(Markdown(string))\n",
    "\n",
    "import pandas as pd\n",
    "\n",
    "# Read dataset:\n",
    "df = pd.read_csv('../datasets/db-readability-length.csv', index_col=0)\n",
    "del df['Length']\n",
    "X = df.values[:,0]\n",
    "df.head()"
   ]
  },
  {
   "cell_type": "code",
   "execution_count": 2,
   "metadata": {},
   "outputs": [
    {
     "name": "stderr",
     "output_type": "stream",
     "text": [
      "/Users/rangel/anaconda3/envs/cdips2017/lib/python3.6/site-packages/sklearn/preprocessing/data.py:586: DeprecationWarning: Passing 1d arrays as data is deprecated in 0.17 and will raise ValueError in 0.19. Reshape your data either using X.reshape(-1, 1) if your data has a single feature or X.reshape(1, -1) if it contains a single sample.\n",
      "  warnings.warn(DEPRECATION_MSG_1D, DeprecationWarning)\n",
      "/Users/rangel/anaconda3/envs/cdips2017/lib/python3.6/site-packages/sklearn/preprocessing/data.py:649: DeprecationWarning: Passing 1d arrays as data is deprecated in 0.17 and will raise ValueError in 0.19. Reshape your data either using X.reshape(-1, 1) if your data has a single feature or X.reshape(1, -1) if it contains a single sample.\n",
      "  warnings.warn(DEPRECATION_MSG_1D, DeprecationWarning)\n"
     ]
    }
   ],
   "source": [
    "# Standarize data\n",
    "from sklearn.preprocessing import StandardScaler\n",
    "import numpy as np\n",
    "scaler = StandardScaler()\n",
    "\n",
    "X = scaler.fit_transform(X)\n",
    "X = np.sort(X)"
   ]
  },
  {
   "cell_type": "markdown",
   "metadata": {},
   "source": [
    "For comparison, I also get random normal distributions A and B."
   ]
  },
  {
   "cell_type": "code",
   "execution_count": 3,
   "metadata": {},
   "outputs": [],
   "source": [
    "# Get also a normally distributed random sample:\n",
    "from scipy.stats import norm\n",
    "\n",
    "# Get random samples\n",
    "n = len(X)\n",
    "\n",
    "# Get random numbers, normaly distributed\n",
    "A = norm.rvs(size=n)\n",
    "B = norm.rvs(size=n)\n",
    "# Sort data\n",
    "A = np.sort(A)\n",
    "B = np.sort(B)\n",
    "\n",
    "# Sample with different means\n",
    "C = norm.rvs(loc=8, scale=10, size=n)\n",
    "C = np.sort(C)"
   ]
  },
  {
   "cell_type": "markdown",
   "metadata": {},
   "source": [
    "<a id='section2' ></a>\n",
    "\n",
    "## Q - Q test   \n",
    "This is a visual test to tell whether two distributions are similar.   \n",
    "We plot the quartiles a given distribution vs. those of another distribution.  \n",
    "In this case, I compare vs. a normal distribution.  "
   ]
  },
  {
   "cell_type": "code",
   "execution_count": 4,
   "metadata": {
    "collapsed": true
   },
   "outputs": [],
   "source": [
    "def get_quartiles(X,Y):\n",
    "    # Get quartiles, 100 of them\n",
    "    Q1 = []; Q2=[]\n",
    "    nq = 100\n",
    "    n1 = len(X)\n",
    "    n2 = len(Y)\n",
    "    for i in range(nq):\n",
    "        j1 = int(i * n1/nq)\n",
    "        j2 = int(i * n2/nq)\n",
    "        # quartiles for the two distributions will be stored in X and Y respectively\n",
    "        Q1.append(X[j1])\n",
    "        Q2.append(Y[j2])\n",
    "    return Q1, Q2\n",
    "\n",
    "def plot_q_q(Q1,Q2):\n",
    "    import matplotlib.pyplot as plt\n",
    "    fig, ax = plt.subplots()\n",
    "    line1, = ax.plot(Q1, Q1, '--', linewidth=2,\n",
    "                 label='')\n",
    "    line2, = ax.plot(Q1,Q2, linestyle = 'dotted', linewidth = 4,\n",
    "                 label='Q-Q')\n",
    "    #ax.legend(loc='lower right')\n",
    "    ax.set_title('Q - Q plot')\n",
    "    ax.set_ylabel('Distribution 2')\n",
    "    ax.set_xlabel('Distribution 1')\n",
    "    plt.show()"
   ]
  },
  {
   "cell_type": "code",
   "execution_count": 5,
   "metadata": {},
   "outputs": [
    {
     "data": {
      "image/png": "[encoded data removed]",
      "text/plain": [
       "<matplotlib.figure.Figure at 0x10e853400>"
      ]
     },
     "metadata": {},
     "output_type": "display_data"
    }
   ],
   "source": [
    "Q1, Q2 = get_quartiles(X,A)\n",
    "plot_q_q(Q1,Q2)\n"
   ]
  },
  {
   "cell_type": "markdown",
   "metadata": {},
   "source": [
    "The above distribution is far from normal, let's do the same test with a distribution that we know is normal:"
   ]
  },
  {
   "cell_type": "code",
   "execution_count": 6,
   "metadata": {},
   "outputs": [
    {
     "data": {
      "image/png": "[encoded data removed]",
      "text/plain": [
       "<matplotlib.figure.Figure at 0x119482978>"
      ]
     },
     "metadata": {},
     "output_type": "display_data"
    }
   ],
   "source": [
    "Q1, Q2 = get_quartiles(A,B)\n",
    "plot_q_q(Q1,Q2)\n"
   ]
  },
  {
   "cell_type": "markdown",
   "metadata": {
    "collapsed": true
   },
   "source": [
    "<a id='section3'></a>\n",
    "## Skew and Kurtosis test\n",
    "\n",
    "Here I use the scipty stats implementation of the Ficher skew S and kurtosis K tests.   \n",
    "We want to know if skew and kurtosis of our sample differ significantly from those of a normal distribution.   \n",
    "\n",
    "### Skew test:\n",
    "$H_0$: skew = 0   \n",
    "$H_1$: skew $\\neq$ 0\n",
    "\n",
    "### Kurtosis test\n",
    "$H_0$: kurtosis = 0   \n",
    "$H_1$: kurtosis $\\neq$ 0   \n",
    "\n",
    "### p-values   \n",
    "We can then obtain the z-scores using:    \n",
    "$z_\\mathrm{skewness} = \\frac{S - 0}{\\mathrm{SE}_\\mathrm{skewness}}$\n",
    "\n",
    "$z_\\mathrm{kurtosis} = \\frac{K - 0}{\\mathrm{SE}_\\mathrm{kurtosis}}$\n",
    "\n",
    "The standard error for skewness and kurtosis can be obtained in any statistics package. Next, I use the implementation of numpy to get the p-values directly."
   ]
  },
  {
   "cell_type": "code",
   "execution_count": 7,
   "metadata": {},
   "outputs": [
    {
     "data": {
      "text/markdown": [
       "Skew and Kurtosis tests for a random distribution"
      ],
      "text/plain": [
       "<IPython.core.display.Markdown object>"
      ]
     },
     "metadata": {},
     "output_type": "display_data"
    },
    {
     "name": "stdout",
     "output_type": "stream",
     "text": [
      "Normal skew test teststat     = 57.478 pvalue = 0.0000\n",
      "Normal kurtosis test teststat = 38.013 pvalue = 0.0000\n"
     ]
    },
    {
     "data": {
      "text/markdown": [
       "**Conclusion** The pvalue for both tests are zero, meaning that we can reject $H_0$\n"
      ],
      "text/plain": [
       "<IPython.core.display.Markdown object>"
      ]
     },
     "metadata": {},
     "output_type": "display_data"
    },
    {
     "data": {
      "text/markdown": [
       "Skew and Kurtosis tests for a normal random distribution"
      ],
      "text/plain": [
       "<IPython.core.display.Markdown object>"
      ]
     },
     "metadata": {},
     "output_type": "display_data"
    },
    {
     "name": "stdout",
     "output_type": "stream",
     "text": [
      "Normal skew test teststat     = -0.303 pvalue = 0.7619\n",
      "Normal kurtosis test teststat = -0.369 pvalue = 0.7124\n"
     ]
    },
    {
     "data": {
      "text/markdown": [
       "**Conclusion** The pvalue for both tests are $>$ 0.05, so we accept $H_0$\n"
      ],
      "text/plain": [
       "<IPython.core.display.Markdown object>"
      ]
     },
     "metadata": {},
     "output_type": "display_data"
    }
   ],
   "source": [
    "from scipy import stats\n",
    "\n",
    "# Test our initial distribution\n",
    "printmd('Skew and Kurtosis tests for a random distribution')\n",
    "#print(stats.skewtest(X))\n",
    "print('Normal skew test teststat     = %6.3f pvalue = %6.4f' % stats.skewtest(X))\n",
    "print('Normal kurtosis test teststat = %6.3f pvalue = %6.4f' % stats.kurtosistest(X))\n",
    "printmd('**Conclusion** The pvalue for both tests are zero, meaning that we can reject $H_0$\\n')\n",
    "\n",
    "printmd('Skew and Kurtosis tests for a normal random distribution')\n",
    "print('Normal skew test teststat     = %6.3f pvalue = %6.4f' % stats.skewtest(A))\n",
    "print('Normal kurtosis test teststat = %6.3f pvalue = %6.4f' % stats.kurtosistest(A))\n",
    "printmd('**Conclusion** The pvalue for both tests are $>$ 0.05, so we accept $H_0$\\n')\n",
    "\n"
   ]
  },
  {
   "cell_type": "markdown",
   "metadata": {},
   "source": [
    "<a id='section4'></a>\n",
    "## Kolmogorov-Smirnov test   \n"
   ]
  },
  {
   "cell_type": "code",
   "execution_count": 8,
   "metadata": {},
   "outputs": [
    {
     "data": {
      "text/plain": [
       "Ks_2sampResult(statistic=0.14698093220338981, pvalue=4.7164996602751415e-36)"
      ]
     },
     "execution_count": 8,
     "metadata": {},
     "output_type": "execute_result"
    }
   ],
   "source": [
    "stats.ks_2samp(X, A)"
   ]
  },
  {
   "cell_type": "markdown",
   "metadata": {},
   "source": [
    "<a id='section5'></a>\n",
    "\n",
    "## Chi-square test\n",
    "\n",
    "Also called \"Goodness of fit test\".   \n",
    "This is also used to test if two distributions are consistent.   \n",
    "\n",
    "\n",
    "The test statistic (CV) is computed as    \n",
    "\n",
    "$\\chi^2 = \\sum_i (O_i - E_i)^2/E_i$\n",
    "\n",
    "where $O_i$ and $E_i$ are observed and expected frequency counts. \n",
    "\n",
    "after computing CV and degrees of freedom ($= n - 1$), we use the chi-square calculator to get the probability of P(chi2 $\\leq$ CV) http://stattrek.com/online-calculator/chi-square.aspx\n",
    "\n",
    "**Note** $\\chi^2$ is the ratio between non negative values, so we need to shift our data to the positive scale before doing chi-square tests."
   ]
  },
  {
   "cell_type": "code",
   "execution_count": 9,
   "metadata": {},
   "outputs": [],
   "source": [
    "# Shift all matrices to take positive values:\n",
    "# Here I just shift the arrays to start at 0\n",
    "\n",
    "eta=0.001 #small number to avoid numerical problems\n",
    "\n",
    "A = A - A.min() + eta\n",
    "B = B - B.min() + eta\n",
    "C = C - C.min() + eta\n",
    "X = X - X.min() + eta\n"
   ]
  },
  {
   "cell_type": "code",
   "execution_count": 12,
   "metadata": {},
   "outputs": [
    {
     "name": "stdout",
     "output_type": "stream",
     "text": [
      "chi2 statistic 1043.53643202 DF  3775\n",
      "Critical value for 95% confidence 3919.05050622\n",
      "P value     1.000000\n"
     ]
    },
    {
     "data": {
      "text/markdown": [
       "The corresponding P($\\,\\chi^2 \\leq $ CV) = 1, hence we accept $H_0$"
      ],
      "text/plain": [
       "<IPython.core.display.Markdown object>"
      ]
     },
     "metadata": {},
     "output_type": "display_data"
    },
    {
     "data": {
      "text/markdown": [
       "Remember that if test statistic is larger than the critical value, then we reject the null hypothesis."
      ],
      "text/plain": [
       "<IPython.core.display.Markdown object>"
      ]
     },
     "metadata": {},
     "output_type": "display_data"
    },
    {
     "name": "stdout",
     "output_type": "stream",
     "text": [
      "Power_divergenceResult(statistic=1043.5364320171252, pvalue=1.0)\n"
     ]
    },
    {
     "data": {
      "text/markdown": [
       "Now lets compare a normal distribution to another with a shifted mean value"
      ],
      "text/plain": [
       "<IPython.core.display.Markdown object>"
      ]
     },
     "metadata": {},
     "output_type": "display_data"
    },
    {
     "data": {
      "text/plain": [
       "Power_divergenceResult(statistic=108470.51072977249, pvalue=0.0)"
      ]
     },
     "execution_count": 12,
     "metadata": {},
     "output_type": "execute_result"
    }
   ],
   "source": [
    "# Let's compute the statistic:   \n",
    "cv = np.sum( ( X - A )**2 / A )\n",
    "df = len(X)-1\n",
    "print(\"chi2 statistic\",cv, \"DF \", df)\n",
    "\n",
    "crit_95 = stats.chi2.ppf(q = 0.95, # Find the critical value for 95% confidence*\n",
    "                      df = df)   # *\n",
    "\n",
    "print(\"Critical value for 95% confidence\",crit_95)\n",
    "\n",
    "\n",
    "p_value = float(1.0 - stats.chi2.cdf(x=cv, df=df))\n",
    "print(\"P value %12.6f\" % p_value)\n",
    "\n",
    "printmd(\"The corresponding P($\\,\\chi^2 \\leq $ CV) = 1, hence we accept $H_0$\")\n",
    "printmd(\"Remember that if test statistic is larger than the critical value, then we reject the null hypothesis.\")\n",
    "# We can also use scipy:\n",
    "#scipy.stats.chisquare(f_obs, f_exp=None, ddof=0, axis=0)\n",
    "\n",
    "print(stats.chisquare(f_obs = X,f_exp = A) )\n",
    "\n",
    "printmd(\"Now lets compare a normal distribution to another with a shifted mean value\")\n",
    "stats.chisquare(f_obs = A,   # Array of observed counts\n",
    "                f_exp = C)   # Array of expected counts"
   ]
  },
  {
   "cell_type": "markdown",
   "metadata": {},
   "source": [
    "## Checking chi-square test\n",
    "\n",
    "Here I reproduce the test in   \n",
    "http://stattrek.com/chi-square-test/goodness-of-fit.aspx?Tutorial=AP"
   ]
  },
  {
   "cell_type": "code",
   "execution_count": 11,
   "metadata": {},
   "outputs": [
    {
     "name": "stdout",
     "output_type": "stream",
     "text": [
      "19.5833333333\n",
      "Critical value for 95% confidence 5.99146454711\n",
      "P value     0.000056\n"
     ]
    }
   ],
   "source": [
    "\n",
    "#http://stattrek.com/chi-square-test/goodness-of-fit.aspx?Tutorial=AP\n",
    "E=np.array([30,60,10])\n",
    "O=np.array([50,45,5])\n",
    "\n",
    "cv = np.sum((O-E)**2/E)\n",
    "print(cv)\n",
    "df=2\n",
    "crit = stats.chi2.ppf(q = 0.95, # Find the critical value for 95% confidence*\n",
    "                      df = df)   # *\n",
    "\n",
    "\n",
    "print(\"Critical value for 95% confidence\",crit)\n",
    "\n",
    "p_value = float(1.0 - stats.chi2.cdf(x=cv, df=df))\n",
    "print(\"P value %12.6f\" % p_value)"
   ]
  },
  {
   "cell_type": "code",
   "execution_count": null,
   "metadata": {
    "collapsed": true
   },
   "outputs": [],
   "source": []
  }
 ],
 "metadata": {
  "kernelspec": {
   "display_name": "Python 3",
   "language": "python",
   "name": "python3"
  },
  "language_info": {
   "codemirror_mode": {
    "name": "ipython",
    "version": 3
   },
   "file_extension": ".py",
   "mimetype": "text/x-python",
   "name": "python",
   "nbconvert_exporter": "python",
   "pygments_lexer": "ipython3",
   "version": "3.6.1"
  }
 },
 "nbformat": 4,
 "nbformat_minor": 2
}
