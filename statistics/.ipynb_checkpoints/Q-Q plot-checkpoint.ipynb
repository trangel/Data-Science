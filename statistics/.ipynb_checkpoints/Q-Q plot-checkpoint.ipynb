{
 "cells": [
  {
   "cell_type": "code",
   "execution_count": 2,
   "metadata": {
    "collapsed": true
   },
   "outputs": [],
   "source": [
    "% matplotlib inline"
   ]
  },
  {
   "cell_type": "code",
   "execution_count": 16,
   "metadata": {},
   "outputs": [],
   "source": [
    "import numpy as np\n",
    "\n",
    "# Get random samples\n",
    "n = 1000\n",
    "X1=np.random.random_sample(n)\n",
    "X2=np.random.random_sample(n)"
   ]
  },
  {
   "cell_type": "code",
   "execution_count": 17,
   "metadata": {},
   "outputs": [],
   "source": [
    "X1.sort()\n",
    "X2.sort()"
   ]
  },
  {
   "cell_type": "code",
   "execution_count": 18,
   "metadata": {},
   "outputs": [],
   "source": [
    "# Get quartiles, 100 of them\n",
    "X = []; Y=[]\n",
    "nq = 100\n",
    "for i in range(nq):\n",
    "    j = int(i * n/nq)\n",
    "    # quartiles for the two distributions will be stored in X and Y respectively\n",
    "    X.append(X1[j])\n",
    "    Y.append(X2[j])\n"
   ]
  },
  {
   "cell_type": "code",
   "execution_count": 24,
   "metadata": {},
   "outputs": [
    {
     "data": {
      "image/png": "[encoded data removed]",
      "text/plain": [
       "<matplotlib.figure.Figure at 0x1182f4198>"
      ]
     },
     "metadata": {},
     "output_type": "display_data"
    }
   ],
   "source": [
    "import matplotlib.pyplot as plt\n",
    "\n",
    "fig, ax = plt.subplots()\n",
    "\n",
    "line1, = ax.plot(X, X, '--', linewidth=2,\n",
    "                 label='')\n",
    "\n",
    "#line1.set_dashes(dashes)\n",
    "\n",
    "line2, = ax.plot(X,Y, linestyle = 'dotted', linewidth = 4,\n",
    "                 label='Q-Q')\n",
    "\n",
    "#ax.legend(loc='lower right')\n",
    "ax.set_title('Q - Q plot')\n",
    "ax.set_ylabel('Distribution 2')\n",
    "ax.set_xlabel('Distribution 1')\n",
    "\n",
    "\n",
    "plt.show()"
   ]
  },
  {
   "cell_type": "code",
   "execution_count": null,
   "metadata": {
    "collapsed": true
   },
   "outputs": [],
   "source": []
  }
 ],
 "metadata": {
  "kernelspec": {
   "display_name": "Python 3",
   "language": "python",
   "name": "python3"
  },
  "language_info": {
   "codemirror_mode": {
    "name": "ipython",
    "version": 3
   },
   "file_extension": ".py",
   "mimetype": "text/x-python",
   "name": "python",
   "nbconvert_exporter": "python",
   "pygments_lexer": "ipython3",
   "version": "3.6.1"
  }
 },
 "nbformat": 4,
 "nbformat_minor": 2
}
