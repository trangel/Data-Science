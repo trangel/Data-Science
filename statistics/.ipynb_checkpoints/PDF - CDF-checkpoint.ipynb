{
 "cells": [
  {
   "cell_type": "markdown",
   "metadata": {},
   "source": [
    "# PDF and CDF \n",
    "\n",
    "In this notebook, I get the PDF and CDF from a given distribution.\n",
    "\n",
    "The steps to take are:   \n",
    "1) [Sort raw data](#section1)   \n",
    "2) [Use numpy to normalize and get PDF and CDF](#section2)   \n",
    "3) [Binarize, and plot data ](#section3)  "
   ]
  },
  {
   "cell_type": "code",
   "execution_count": 1,
   "metadata": {
    "collapsed": true
   },
   "outputs": [],
   "source": [
    "% matplotlib inline"
   ]
  },
  {
   "cell_type": "markdown",
   "metadata": {},
   "source": [
    "<a id='section1'></a>\n",
    "## Section 1"
   ]
  },
  {
   "cell_type": "code",
   "execution_count": 2,
   "metadata": {},
   "outputs": [],
   "source": [
    "import numpy as np\n",
    "from scipy.stats import norm\n",
    "\n",
    "\n",
    "# Get random samples\n",
    "n = 1000\n",
    "#X=np.random.random_sample(n)\n",
    "\n",
    "# Get random numbers, normally distributed\n",
    "X = norm.rvs(size=n)\n",
    "\n",
    "# Sort data\n",
    "X = np.sort(X)\n",
    "\n",
    "#x = np.linspace(norm.ppf(0.01),norm.ppf(0.99), 100)\n"
   ]
  },
  {
   "cell_type": "markdown",
   "metadata": {},
   "source": [
    "<a id='section2'></a>\n",
    "## Section 2"
   ]
  },
  {
   "cell_type": "code",
   "execution_count": 3,
   "metadata": {},
   "outputs": [],
   "source": [
    "# Get PDF function:\n",
    "rv = norm()\n",
    "PDF = rv.pdf(X)\n",
    "\n",
    "CDF = rv.cdf(X)"
   ]
  },
  {
   "cell_type": "code",
   "execution_count": 4,
   "metadata": {},
   "outputs": [
    {
     "name": "stdout",
     "output_type": "stream",
     "text": [
      "-3.41019149037 3.41928313789 0.01\n"
     ]
    }
   ],
   "source": [
    "xmax = X.max()\n",
    "xmin = X.min()\n",
    "xstep = 0.01\n",
    "\n",
    "print(xmin,xmax,xstep)"
   ]
  },
  {
   "cell_type": "markdown",
   "metadata": {},
   "source": [
    "<a id='section3'></a>\n",
    "## Section 3"
   ]
  },
  {
   "cell_type": "code",
   "execution_count": 5,
   "metadata": {},
   "outputs": [
    {
     "data": {
      "image/png": "[encoded data removed]",
      "text/plain": [
       "<matplotlib.figure.Figure at 0x10c4c12e8>"
      ]
     },
     "metadata": {},
     "output_type": "display_data"
    }
   ],
   "source": [
    "import matplotlib.pyplot as plt\n",
    "\n",
    "xx = np.arange(xmin,xmax,xstep)\n",
    "\n",
    "fig, ax = plt.subplots()\n",
    "\n",
    "\n",
    "#ax.plot(X, PDF, 'k-', lw=2, label='frozen pdf')\n",
    "ax.plot(X, PDF, 'r-', lw=5, alpha=0.6, label = 'PDF')\n",
    "ax.plot(X, CDF, 'g-', lw=5, alpha=0.6, label = 'CDF' )\n",
    "n,bins,patches=ax.hist(X, bins=np.arange(xmin, xmax, xstep),normed=1,facecolor='blue',align='mid',label='distribution')\n",
    "\n",
    "\n",
    "ax.legend(loc='right')\n",
    "#ax.set_title('PDF function')\n",
    "ax.set_ylabel('PDF')\n",
    "ax.set_xlabel('x')\n",
    "\n",
    "\n",
    "plt.show()"
   ]
  }
 ],
 "metadata": {
  "kernelspec": {
   "display_name": "Python 3",
   "language": "python",
   "name": "python3"
  },
  "language_info": {
   "codemirror_mode": {
    "name": "ipython",
    "version": 3
   },
   "file_extension": ".py",
   "mimetype": "text/x-python",
   "name": "python",
   "nbconvert_exporter": "python",
   "pygments_lexer": "ipython3",
   "version": "3.6.1"
  }
 },
 "nbformat": 4,
 "nbformat_minor": 2
}
