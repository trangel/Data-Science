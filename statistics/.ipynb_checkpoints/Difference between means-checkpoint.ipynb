{
 "cells": [
  {
   "cell_type": "markdown",
   "metadata": {},
   "source": [
    "# Difference between means\n",
    "\n",
    "Here I discuss how to make hypothesis tests for the difference between means.\n",
    "\n",
    "Several methods are proposed:    \n",
    "\n",
    "1. [Parametric](#parametric)    \n",
    "    1.1 [t-test](#t-test)   \n",
    "    1.2 [Scipy's t-test](#scipy-t-test)   \n",
    "    1.3 [Cohen's d](#cohens-d)   \n",
    "2. [Non parametric tests](#non-parametric)\n",
    "3. [Bootstrapping](#bootstrapping)"
   ]
  },
  {
   "cell_type": "markdown",
   "metadata": {},
   "source": [
    "\n",
    "Which one to use?\n",
    "\n",
    "http://blog.minitab.com/blog/adventures-in-statistics-2/choosing-between-a-nonparametric-test-and-a-parametric-test"
   ]
  },
  {
   "cell_type": "markdown",
   "metadata": {},
   "source": [
    "<a id='parametric'></a>\n",
    "# Parametric tests.\n",
    "\n",
    "<a id='t-test'></a>\n",
    "## t-test\n",
    "\n",
    "### Assumptions:\n",
    "1. two independent random samples   \n",
    "2. each drawn from a normally distributed population  \n",
    "\n",
    "### Hypothesis\n",
    "|Set|\tNull hypothesis\t| Alternative hypothesis |No. of tails |\n",
    "|---|:-----------------:|:----------------------:|:-----------:|\n",
    "|1\t| $\\mu_1 - \\mu_2 = d$ | $\\mu_1 - \\mu_2 \\neq d$ |\t2|\n",
    "|2\t| $\\mu_1 - \\mu_2 > d$ | $\\mu_1 - \\mu_2 < d$ | 1|\n",
    "|3\t| $\\mu_1 - \\mu_2 < d$ | $\\mu_1 - \\mu_2 > d$ | 1|\n",
    "\n",
    "with $d$ being the difference between the two means.\n",
    "\n",
    "### Test method\n",
    "\n",
    "We will use the ** t-test ** method.   \n",
    "\n",
    "Steps:   \n",
    "\n",
    "Given two samples of size $n_1$ and $n_2$ and standard deviation $s_1$ and $s_2$, respectively, calculate the following:   \n",
    "\n",
    "#### Standard error (SE):   \n",
    "SE $ = \\sqrt{ (s_1^2/n_1) + (s_2^2/n_2) }$\n",
    "\n",
    "\n",
    "#### Degrees of freedom (DF):   \n",
    "DF $ = \\frac{( s_1^2/n_1 + s_2^2/n_2)^2 } {  (s_1^2 / n_1)^2 / (n_1 - 1)  + (s_2^2 / n_2)^2 / (n_2 - 1)  }$\n",
    "\n",
    "\n",
    "#### Test statistic:   \n",
    "$t = \\frac{ (x1 - x2) - d  }{ \\textrm{SE}}$\n",
    "\n",
    "\n",
    "**Note** If the population standard deviations ($\\sigma_1$ and $\\sigma_2$) are known, or if both sample sizes are 30 or larger (the central limit theorem is in effect), the test statistic is \n",
    "\n",
    "$z = \\frac{ (x1 - x2) - d  }{ \\textrm{SE}}$ ; SE $ = \\sqrt{ (\\sigma_1^2/n_1) + (\\sigma_2^2/n_2) }$\n",
    "\n",
    "\n",
    "Further reading:   \n",
    "[kean.edu](http://www.kean.edu/~fosborne/bstat/07b2means.html)   \n",
    "[stattrek.com](http://stattrek.com/hypothesis-test/difference-in-means.aspx?Tutorial=AP#) "
   ]
  },
  {
   "cell_type": "markdown",
   "metadata": {},
   "source": [
    "<a id='numerical-example'></a>\n",
    "### Numerical example\n",
    "\n",
    "Let's test if two normal distributions have different means.   "
   ]
  },
  {
   "cell_type": "code",
   "execution_count": 1,
   "metadata": {},
   "outputs": [
    {
     "name": "stdout",
     "output_type": "stream",
     "text": [
      "Sample 1: mean = 0.9869412989912831, std =2.025116027262828\n",
      "Sample 2: mean = 1.3990272799297596, std =2.321856981190367\n"
     ]
    }
   ],
   "source": [
    "import numpy as np\n",
    "\n",
    "# Let's construct two samples normally distributed with a given mean (mu) and standard deviations (std).   \n",
    "sample_size=1000\n",
    "\n",
    "mu = 1.0; std = 2.0;\n",
    "sample1 = np.random.normal(loc=mu, scale=std, size=sample_size)\n",
    "mu1 = sample1.mean(); std1 = sample1.std(); n1=len(sample1)\n",
    "print(\"Sample 1: mean = {}, std ={}\".format(mu1,std1))\n",
    "\n",
    "mu = 1.5; std=2.2;\n",
    "sample2 = np.random.normal(loc=mu, scale=std, size=sample_size)\n",
    "mu2 = sample2.mean(); std2 = sample2.std(); n2=len(sample2)\n",
    "print(\"Sample 2: mean = {}, std ={}\".format(mu2,std2))"
   ]
  },
  {
   "cell_type": "code",
   "execution_count": 2,
   "metadata": {},
   "outputs": [
    {
     "data": {
      "image/png": "[encoded data removed]",
      "text/plain": [
       "<matplotlib.figure.Figure at 0x1043dfda0>"
      ]
     },
     "metadata": {},
     "output_type": "display_data"
    }
   ],
   "source": [
    "import matplotlib as plt\n",
    "%matplotlib inline\n",
    "import seaborn as sns\n",
    "sns.set(style=\"ticks\")\n",
    "\n",
    "# Load the example dataset for Anscombe's quartet\n",
    "#df = sns.load_dataset(\"anscombe\")\n",
    "\n",
    "bins = np.arange(-10,10,0.5)\n",
    "\n",
    "# Show the results of a linear regression within each dataset\n",
    "ax1 = sns.distplot(sample1,bins=bins)\n",
    "ax2 = sns.distplot(sample2,bins=bins)\n",
    "\n",
    "plt.pyplot.show()"
   ]
  },
  {
   "cell_type": "markdown",
   "metadata": {},
   "source": [
    "### Are the two distribution means significantly different?\n",
    "\n",
    "Null hypothesis    \n",
    "$\\mathcal{H}_0$ : $ \\mu_1 - \\mu_2 = 0$    \n",
    "\n",
    "Alternative hypothesis   \n",
    "$\\mathcal{H}_1$ : $ \\mu_1 - \\mu_2 \\neq 0$   \n",
    "\n",
    "This is a two-tailed test.   \n",
    "significance = 0.5\n",
    "\n",
    "Compute the t-statistic."
   ]
  },
  {
   "cell_type": "code",
   "execution_count": 3,
   "metadata": {},
   "outputs": [
    {
     "name": "stdout",
     "output_type": "stream",
     "text": [
      "SE = 0.097\n"
     ]
    }
   ],
   "source": [
    "# Standard error\n",
    "SE = np.sqrt(std1**2/n1 + std2**2/n2)\n",
    "print(\"SE = {}\".format(round(SE,3)))"
   ]
  },
  {
   "cell_type": "code",
   "execution_count": 4,
   "metadata": {},
   "outputs": [
    {
     "name": "stdout",
     "output_type": "stream",
     "text": [
      "DF = 1961\n"
     ]
    }
   ],
   "source": [
    "# Degrees of freedom:\n",
    "denominator=((std1**2/n1)**2/(n1-1) + (std2**2/n2)**2/(n2-1))\n",
    "DF = (std1**2/n1 + std2**2/n2)**2/denominator\n",
    "print(\"DF = {}\".format(int(DF)))\n"
   ]
  },
  {
   "cell_type": "code",
   "execution_count": 5,
   "metadata": {},
   "outputs": [
    {
     "name": "stdout",
     "output_type": "stream",
     "text": [
      "t = -4.23\n"
     ]
    }
   ],
   "source": [
    "# t-statistic\n",
    "t = (mu1 - mu2)/SE\n",
    "print(\"t = {}\".format(round(t,3)))\n"
   ]
  },
  {
   "cell_type": "markdown",
   "metadata": {},
   "source": [
    "Since this is a two-tailed function, we need to test that:   \n",
    "$P = P(t<-4.763) + P(t>4.763) < \\alpha$     \n",
    "\n",
    "Since $P (t< -4.763) = P(t > 4.7)$,   \n",
    "$P = 2 P(t < -4.763)$  \n",
    "\n",
    "Note we use significance $\\alpha =0.5$    "
   ]
  },
  {
   "cell_type": "code",
   "execution_count": 6,
   "metadata": {},
   "outputs": [
    {
     "name": "stdout",
     "output_type": "stream",
     "text": [
      "P = 2.44805941963925e-05\n"
     ]
    }
   ],
   "source": [
    "from scipy import stats\n",
    "P = 2* stats.t.cdf(t, DF)\n",
    "# Multiply by two, since this is two-tailed test\n",
    "\n",
    "print(\"P = {}\".format(P))"
   ]
  },
  {
   "cell_type": "markdown",
   "metadata": {},
   "source": [
    "Our p-value is much less than 0.5, then we **reject** the null-hypothesis.\n",
    "\n",
    "\n",
    "<a id='scipy-t-test'></a>\n",
    "## Scipy's t-test\n",
    "t-test is also implemented in scipy."
   ]
  },
  {
   "cell_type": "code",
   "execution_count": 7,
   "metadata": {},
   "outputs": [
    {
     "name": "stdout",
     "output_type": "stream",
     "text": [
      "Test Statistic -4.228\n",
      "p-value 2.468970986603012e-05\n",
      "\n"
     ]
    }
   ],
   "source": [
    "twosample_results = stats.ttest_ind(sample1, sample2)\n",
    "\n",
    "print('Test Statistic {}\\np-value {}\\n'\\\n",
    "      .format(round(twosample_results[0],3), twosample_results[1]))\n"
   ]
  },
  {
   "cell_type": "markdown",
   "metadata": {
    "collapsed": true
   },
   "source": [
    "These results agree with previous findings. Hence, we reject the null hypothesis (see above).\n",
    "\n",
    "\n",
    "\n"
   ]
  },
  {
   "cell_type": "markdown",
   "metadata": {},
   "source": [
    "<a id='cohens-d'></a>\n",
    "## Cohen's d  \n",
    "\n",
    "Cohen's d is a statistical measure to indicate effect size. An effect size is how large an effect of an experiment (or something) is. Or to compare two means, this is used along with ANOVA or t-tests.  \n",
    "\n",
    "The formula of Cohen's d is:\n",
    "\n",
    "$d = (\\mu_1 - \\mu_2)/s_\\textrm{pooled}$\n",
    "\n",
    "$s_\\textrm{pooled}$ is the pooled standard deviation for two groups,    \n",
    "$s_\\textrm{pooled} = \\sqrt{(s_1^2 + s_2^2)/2}$\n",
    "\n",
    "Interpretation:\n",
    "The Cohen's d value is used to evaluate the effect size, but use this cautiosly,   \n",
    "\n",
    "* Small effect = 0.2\n",
    "* Medium effect = 0.5\n",
    "* Large effect $\\geq$ 0.8\n",
    "\n",
    "In terms of $r$, the suggested corresponding values are 0.10, 0.30, and 0.50.   \n",
    "\n",
    "To transform $d$ into the correlation coefficient $r$,   \n",
    "$r = \\frac{d}{\\sqrt{d^2 + 4}}$\n",
    "\n",
    "Note that Cohen's d is similar to the Hedges'g, which is also used to estimate the effect size,   \n",
    "$g = \\frac{d}{\\sqrt{N/\\textrm{DF}}}$   \n",
    "with $N=$ sample size, and degrees of freedom DF.  \n",
    "\n",
    "\n",
    "Further reading:   \n",
    "http://www.statisticshowto.com/hedges-g/   \n",
    "http://www.statisticshowto.com/cohens-d/\n",
    "\n",
    "\n",
    "References:   \n",
    "* Cohen, J. (1977). Statistical power analysis for the behavioral sciences. Routledge.\n",
    "* Durlak, J. (2009) How to Select, Calculate, and Interpret Effect Sizes. Journal of Pediatric Psychology. March: 34(9):917-28."
   ]
  },
  {
   "cell_type": "markdown",
   "metadata": {},
   "source": [
    "### Numerical example\n",
    "\n",
    "Let's evaluate the Cohen's d value for our numerical example (see [above](#numerical-example)). \n",
    "\n",
    "This metric will tell us how different are the two distributions in terms of standard deviations   "
   ]
  },
  {
   "cell_type": "code",
   "execution_count": 8,
   "metadata": {},
   "outputs": [
    {
     "name": "stdout",
     "output_type": "stream",
     "text": [
      "Cohen's d 0.19\n"
     ]
    }
   ],
   "source": [
    "# Evaluate Cohen's d  \n",
    "pooled_std = ((std2**2 + std1**2)/2.0)**0.5\n",
    "d = (mu2 - mu1)/pooled_std\n",
    "\n",
    "print('Cohen\\'s d {}'.format(round(d,2)))"
   ]
  },
  {
   "cell_type": "markdown",
   "metadata": {},
   "source": [
    "The Cohen's d is 0.2, hence the two samples have a relatively small difference.   "
   ]
  },
  {
   "cell_type": "code",
   "execution_count": null,
   "metadata": {
    "collapsed": true
   },
   "outputs": [],
   "source": []
  }
 ],
 "metadata": {
  "kernelspec": {
   "display_name": "Python 3",
   "language": "python",
   "name": "python3"
  },
  "language_info": {
   "codemirror_mode": {
    "name": "ipython",
    "version": 3
   },
   "file_extension": ".py",
   "mimetype": "text/x-python",
   "name": "python",
   "nbconvert_exporter": "python",
   "pygments_lexer": "ipython3",
   "version": "3.6.1"
  }
 },
 "nbformat": 4,
 "nbformat_minor": 2
}
