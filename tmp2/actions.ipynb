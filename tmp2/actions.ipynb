{
 "cells": [
  {
   "cell_type": "code",
   "execution_count": 1,
   "metadata": {
    "collapsed": true
   },
   "outputs": [],
   "source": [
    "import random\n",
    "from datetime import datetime\n",
    "import numpy as np\n",
    "\n",
    "#year = random.randint(1950, 2000)\n",
    "#month = random.randint(1, 12)\n",
    "year = 2017\n",
    "month = 12\n",
    "\n",
    "# Generate 300 random timestamps and users\n",
    "n_events = 300\n",
    "action_dic = {0:'send',1:'accept',2:'reject'}\n",
    "\n",
    "\n",
    "events=[]\n",
    "for i in range(n_events): \n",
    "    day = random.randint(1, 24)\n",
    "    # add a few null values\n",
    "    #if i & 3 == 2 :\n",
    "    #    user = np.nan\n",
    "    #else:\n",
    "    \n",
    "    # One sent event\n",
    "    userid = int(random.randint(1,10))\n",
    "    timestamp = datetime(year, month, day).timestamp()\n",
    "    action = 'send'\n",
    "    events.append([timestamp,userid,action])\n",
    "    \n",
    "    # One random accept or reject after random number of days:\n",
    "    days_to_answer = random.randint(1, 4)\n",
    "    day = day + days_to_answer\n",
    "    timestamp = datetime(year, month, day).timestamp()\n",
    "    action=action_dic[random.randint(1,2)]\n",
    "    events.append([timestamp,userid,action])\n",
    "\n",
    "    \n",
    "\n",
    "#>>> from datetime import datetime\n",
    "#>>> datetime.fromtimestamp(1172969203.1)\n",
    "#datetime.datetime(2007, 3, 4, 0, 46, 43, 100000)    \n"
   ]
  },
  {
   "cell_type": "code",
   "execution_count": 2,
   "metadata": {},
   "outputs": [
    {
     "data": {
      "text/html": [
       "<div>\n",
       "<style>\n",
       "    .dataframe thead tr:only-child th {\n",
       "        text-align: right;\n",
       "    }\n",
       "\n",
       "    .dataframe thead th {\n",
       "        text-align: left;\n",
       "    }\n",
       "\n",
       "    .dataframe tbody tr th {\n",
       "        vertical-align: top;\n",
       "    }\n",
       "</style>\n",
       "<table border=\"1\" class=\"dataframe\">\n",
       "  <thead>\n",
       "    <tr style=\"text-align: right;\">\n",
       "      <th></th>\n",
       "      <th>timestamp</th>\n",
       "      <th>userid</th>\n",
       "      <th>action</th>\n",
       "    </tr>\n",
       "  </thead>\n",
       "  <tbody>\n",
       "    <tr>\n",
       "      <th>0</th>\n",
       "      <td>1513756800.0</td>\n",
       "      <td>6</td>\n",
       "      <td>send</td>\n",
       "    </tr>\n",
       "    <tr>\n",
       "      <th>1</th>\n",
       "      <td>1514016000.0</td>\n",
       "      <td>6</td>\n",
       "      <td>reject</td>\n",
       "    </tr>\n",
       "    <tr>\n",
       "      <th>2</th>\n",
       "      <td>1513238400.0</td>\n",
       "      <td>1</td>\n",
       "      <td>send</td>\n",
       "    </tr>\n",
       "    <tr>\n",
       "      <th>3</th>\n",
       "      <td>1513324800.0</td>\n",
       "      <td>1</td>\n",
       "      <td>accept</td>\n",
       "    </tr>\n",
       "    <tr>\n",
       "      <th>4</th>\n",
       "      <td>1513497600.0</td>\n",
       "      <td>2</td>\n",
       "      <td>send</td>\n",
       "    </tr>\n",
       "    <tr>\n",
       "      <th>5</th>\n",
       "      <td>1513584000.0</td>\n",
       "      <td>2</td>\n",
       "      <td>accept</td>\n",
       "    </tr>\n",
       "    <tr>\n",
       "      <th>6</th>\n",
       "      <td>1514102400.0</td>\n",
       "      <td>4</td>\n",
       "      <td>send</td>\n",
       "    </tr>\n",
       "    <tr>\n",
       "      <th>7</th>\n",
       "      <td>1514361600.0</td>\n",
       "      <td>4</td>\n",
       "      <td>accept</td>\n",
       "    </tr>\n",
       "    <tr>\n",
       "      <th>8</th>\n",
       "      <td>1512115200.0</td>\n",
       "      <td>4</td>\n",
       "      <td>send</td>\n",
       "    </tr>\n",
       "    <tr>\n",
       "      <th>9</th>\n",
       "      <td>1512201600.0</td>\n",
       "      <td>4</td>\n",
       "      <td>reject</td>\n",
       "    </tr>\n",
       "  </tbody>\n",
       "</table>\n",
       "</div>"
      ],
      "text/plain": [
       "      timestamp userid  action\n",
       "0  1513756800.0      6    send\n",
       "1  1514016000.0      6  reject\n",
       "2  1513238400.0      1    send\n",
       "3  1513324800.0      1  accept\n",
       "4  1513497600.0      2    send\n",
       "5  1513584000.0      2  accept\n",
       "6  1514102400.0      4    send\n",
       "7  1514361600.0      4  accept\n",
       "8  1512115200.0      4    send\n",
       "9  1512201600.0      4  reject"
      ]
     },
     "execution_count": 2,
     "metadata": {},
     "output_type": "execute_result"
    }
   ],
   "source": [
    "import numpy as np\n",
    "import pandas as pd\n",
    "# numpy array to df\n",
    "\n",
    "events = np.array(events)\n",
    "columns = ['timestamp','userid','action']\n",
    "df = pd.DataFrame(events,columns=columns)\n",
    "df.head(10)"
   ]
  },
  {
   "cell_type": "code",
   "execution_count": 3,
   "metadata": {
    "collapsed": true
   },
   "outputs": [],
   "source": [
    "df.to_csv('actions.csv')"
   ]
  },
  {
   "cell_type": "code",
   "execution_count": null,
   "metadata": {
    "collapsed": true
   },
   "outputs": [],
   "source": []
  },
  {
   "cell_type": "code",
   "execution_count": null,
   "metadata": {
    "collapsed": true
   },
   "outputs": [],
   "source": []
  }
 ],
 "metadata": {
  "kernelspec": {
   "display_name": "Python 3",
   "language": "python",
   "name": "python3"
  },
  "language_info": {
   "codemirror_mode": {
    "name": "ipython",
    "version": 3
   },
   "file_extension": ".py",
   "mimetype": "text/x-python",
   "name": "python",
   "nbconvert_exporter": "python",
   "pygments_lexer": "ipython3",
   "version": "3.6.1"
  }
 },
 "nbformat": 4,
 "nbformat_minor": 2
}
