{
 "cells": [
  {
   "cell_type": "code",
   "execution_count": 1,
   "metadata": {
    "collapsed": true
   },
   "outputs": [],
   "source": [
    "%matplotlib inline"
   ]
  },
  {
   "cell_type": "markdown",
   "metadata": {},
   "source": [
    "\n",
    "# Feature importances with forests of trees\n",
    "\n",
    "\n",
    "This examples shows the use of forests of trees to evaluate the importance of\n",
    "features on an artificial classification task. The red bars are the feature\n",
    "importances of the forest, along with their inter-trees variability.\n",
    "Inspired from sciki-tutorials."
   ]
  },
  {
   "cell_type": "code",
   "execution_count": 2,
   "metadata": {},
   "outputs": [
    {
     "name": "stdout",
     "output_type": "stream",
     "text": [
      "Automatically created module for IPython interactive environment\n"
     ]
    }
   ],
   "source": [
    "print(__doc__)\n",
    "\n",
    "import numpy as np\n",
    "import matplotlib.pyplot as plt\n",
    "import pandas as pd\n",
    "\n",
    "\n",
    "from sklearn.datasets import make_classification\n",
    "from sklearn.ensemble import ExtraTreesClassifier\n",
    "\n"
   ]
  },
  {
   "cell_type": "markdown",
   "metadata": {},
   "source": [
    "## Read dataset with Pandas.\n",
    "As previous examples, we use pandas to read datasets, and standarize the data."
   ]
  },
  {
   "cell_type": "code",
   "execution_count": 3,
   "metadata": {},
   "outputs": [
    {
     "name": "stderr",
     "output_type": "stream",
     "text": [
      "b'Skipping line 8: expected 8 fields, saw 10\\nSkipping line 36: expected 8 fields, saw 10\\nSkipping line 61: expected 8 fields, saw 9\\nSkipping line 69: expected 8 fields, saw 9\\nSkipping line 107: expected 8 fields, saw 9\\nSkipping line 136: expected 8 fields, saw 9\\nSkipping line 170: expected 8 fields, saw 9\\nSkipping line 171: expected 8 fields, saw 9\\nSkipping line 173: expected 8 fields, saw 9\\nSkipping line 202: expected 8 fields, saw 9\\nSkipping line 204: expected 8 fields, saw 9\\n'\n"
     ]
    },
    {
     "data": {
      "text/html": [
       "<div>\n",
       "<table border=\"1\" class=\"dataframe\">\n",
       "  <thead>\n",
       "    <tr style=\"text-align: right;\">\n",
       "      <th></th>\n",
       "      <th>area</th>\n",
       "      <th>perimeter</th>\n",
       "      <th>compactness</th>\n",
       "      <th>kernel-length</th>\n",
       "      <th>kernel-width</th>\n",
       "      <th>asymmetry</th>\n",
       "      <th>kernel-groove-length</th>\n",
       "      <th>class</th>\n",
       "    </tr>\n",
       "  </thead>\n",
       "  <tbody>\n",
       "    <tr>\n",
       "      <th>0</th>\n",
       "      <td>15.26</td>\n",
       "      <td>14.84</td>\n",
       "      <td>0.8710</td>\n",
       "      <td>5.763</td>\n",
       "      <td>3.312</td>\n",
       "      <td>2.221</td>\n",
       "      <td>5.220</td>\n",
       "      <td>1</td>\n",
       "    </tr>\n",
       "    <tr>\n",
       "      <th>1</th>\n",
       "      <td>14.88</td>\n",
       "      <td>14.57</td>\n",
       "      <td>0.8811</td>\n",
       "      <td>5.554</td>\n",
       "      <td>3.333</td>\n",
       "      <td>1.018</td>\n",
       "      <td>4.956</td>\n",
       "      <td>1</td>\n",
       "    </tr>\n",
       "    <tr>\n",
       "      <th>2</th>\n",
       "      <td>14.29</td>\n",
       "      <td>14.09</td>\n",
       "      <td>0.9050</td>\n",
       "      <td>5.291</td>\n",
       "      <td>3.337</td>\n",
       "      <td>2.699</td>\n",
       "      <td>4.825</td>\n",
       "      <td>1</td>\n",
       "    </tr>\n",
       "    <tr>\n",
       "      <th>3</th>\n",
       "      <td>13.84</td>\n",
       "      <td>13.94</td>\n",
       "      <td>0.8955</td>\n",
       "      <td>5.324</td>\n",
       "      <td>3.379</td>\n",
       "      <td>2.259</td>\n",
       "      <td>4.805</td>\n",
       "      <td>1</td>\n",
       "    </tr>\n",
       "    <tr>\n",
       "      <th>4</th>\n",
       "      <td>16.14</td>\n",
       "      <td>14.99</td>\n",
       "      <td>0.9034</td>\n",
       "      <td>5.658</td>\n",
       "      <td>3.562</td>\n",
       "      <td>1.355</td>\n",
       "      <td>5.175</td>\n",
       "      <td>1</td>\n",
       "    </tr>\n",
       "  </tbody>\n",
       "</table>\n",
       "</div>"
      ],
      "text/plain": [
       "    area  perimeter  compactness  kernel-length  kernel-width  asymmetry  \\\n",
       "0  15.26      14.84       0.8710          5.763         3.312      2.221   \n",
       "1  14.88      14.57       0.8811          5.554         3.333      1.018   \n",
       "2  14.29      14.09       0.9050          5.291         3.337      2.699   \n",
       "3  13.84      13.94       0.8955          5.324         3.379      2.259   \n",
       "4  16.14      14.99       0.9034          5.658         3.562      1.355   \n",
       "\n",
       "   kernel-groove-length  class  \n",
       "0                 5.220      1  \n",
       "1                 4.956      1  \n",
       "2                 4.825      1  \n",
       "3                 4.805      1  \n",
       "4                 5.175      1  "
      ]
     },
     "execution_count": 3,
     "metadata": {},
     "output_type": "execute_result"
    }
   ],
   "source": [
    "\n",
    "#I use this dataset because this has clearly separated cathegories, \n",
    "#Read the database using pandas, \n",
    "#Note that bad lines are omitted with error_bad_lines=False\n",
    "df = pd.read_csv('https://archive.ics.uci.edu/ml/'\n",
    "        'machine-learning-databases/00236/seeds_dataset.txt', header=None, sep=\"\\t\", error_bad_lines=False)\n",
    "\n",
    "#The headers are not given in the dataset, so we give them afterwords:\n",
    "#1. area A, \n",
    "#2. perimeter P, \n",
    "#3. compactness C = 4*pi*A/P^2, \n",
    "#4. length of kernel, \n",
    "#5. width of kernel, \n",
    "#6. asymmetry coefficient \n",
    "#7. length of kernel groove. \n",
    "#8. Class: 1=Kama, 2=Rosa, 3=Canadian\n",
    "column_header= [\"area\",\"perimeter\",\"compactness\",\"kernel-length\",\"kernel-width\",\n",
    "              \"asymmetry\",\"kernel-groove-length\",\"class\"]\n",
    "df.columns = column_header\n",
    "\n",
    "#This shows the header of the database:\n",
    "df.head()"
   ]
  },
  {
   "cell_type": "code",
   "execution_count": 4,
   "metadata": {
    "collapsed": true
   },
   "outputs": [],
   "source": [
    "#This sets class=2 to 0 and 3 to 1:\n",
    "y = df.loc[:,'class']\n",
    "\n",
    "#Extract some cathegories:\n",
    "X=df.iloc[:,0:7]\n",
    "#This is to convert the csv dictionary into a numpy matrix to later standarize:\n",
    "X=X.as_matrix()\n",
    "\n",
    "nfeature=X.shape[1]\n",
    "\n",
    "# standardize features\n",
    "X_std = np.copy(X)\n",
    "for ifeat in range(0,nfeature):\n",
    "    X_std[:,ifeat] = (X[:,ifeat] - X[:,ifeat].mean()) / X[:,ifeat].std()\n"
   ]
  },
  {
   "cell_type": "markdown",
   "metadata": {},
   "source": [
    "## Forest trees to compute feature importances.\n",
    "Here we build a forest to compute feature importances.\n",
    "Choosing feature importances is a complicated task and is well explained elsewhere. Please read: \n",
    "https://en.wikipedia.org/wiki/Feature_selection\n",
    "http://alexperrier.github.io/jekyll/update/2015/08/27/feature-importance-random-forests-gini-accuracy.html\n",
    "\n",
    "Feature selection can result in more cost effective models, by reducing the number of features when is large. \n",
    "\n",
    "\n",
    "\"Regularized trees penalize using a variable similar to the variables selected at previous tree nodes for splitting the current node. Regularized trees only need build one tree model (or one tree ensemble model) and thus are computationally efficient.\" [Wiki]\n"
   ]
  },
  {
   "cell_type": "code",
   "execution_count": 5,
   "metadata": {},
   "outputs": [
    {
     "name": "stdout",
     "output_type": "stream",
     "text": [
      "Feature ranking:\n",
      "1. feature 1 (           perimeter): 0.188693\n",
      "2. feature 0 (                area): 0.192316\n",
      "3. feature 6 (kernel-groove-length): 0.066855\n",
      "4. feature 4 (        kernel-width): 0.138654\n",
      "5. feature 3 (       kernel-length): 0.141697\n",
      "6. feature 5 (           asymmetry): 0.086625\n",
      "7. feature 2 (         compactness): 0.185160\n"
     ]
    },
    {
     "data": {
      "image/png": "[encoded data removed]",
      "text/plain": [
       "<matplotlib.figure.Figure at 0x110f3b400>"
      ]
     },
     "metadata": {},
     "output_type": "display_data"
    }
   ],
   "source": [
    "# Build a forest and compute the feature importances\n",
    "forest = ExtraTreesClassifier(n_estimators=250,\n",
    "                              random_state=0)\n",
    "\n",
    "forest.fit(X, y)\n",
    "importances = forest.feature_importances_\n",
    "std = np.std([tree.feature_importances_ for tree in forest.estimators_],\n",
    "             axis=0)\n",
    "indices = np.argsort(importances)[::-1]\n",
    "\n",
    "\n",
    "# Print the feature ranking\n",
    "print(\"Feature ranking:\")\n",
    "\n",
    "for f in range(X.shape[1]):\n",
    "    print(\"%d. feature %d (%20s): %f\" % (f + 1, indices[f],column_header[indices[f]], importances[f]))\n",
    "\n",
    "# Plot the feature importances of the forest\n",
    "plt.figure()\n",
    "plt.title(\"Feature importances\")\n",
    "plt.bar(range(X.shape[1]), importances[indices],\n",
    "       color=\"r\", yerr=std[indices], align=\"center\")\n",
    "plt.xticks(range(X.shape[1]), indices)\n",
    "plt.xlim([-1, X.shape[1]])\n",
    "plt.show()"
   ]
  }
 ],
 "metadata": {
  "kernelspec": {
   "display_name": "Python 3",
   "language": "python",
   "name": "python3"
  },
  "language_info": {
   "codemirror_mode": {
    "name": "ipython",
    "version": 3
   },
   "file_extension": ".py",
   "mimetype": "text/x-python",
   "name": "python",
   "nbconvert_exporter": "python",
   "pygments_lexer": "ipython3",
   "version": "3.6.1"
  }
 },
 "nbformat": 4,
 "nbformat_minor": 1
}
