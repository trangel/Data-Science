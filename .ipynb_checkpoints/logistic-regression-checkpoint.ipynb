{
 "cells": [
  {
   "cell_type": "markdown",
   "metadata": {},
   "source": [
    "# Logistic regression\n",
    "\n",
    "\n",
    "In this example, I classify a popular database of seeds of 2 cathegories using a logistic regression algorithm.\n",
    "This is a first simple example to show how to apply learning algorithms into a dataset. \n"
   ]
  },
  {
   "cell_type": "code",
   "execution_count": 1,
   "metadata": {
    "collapsed": true
   },
   "outputs": [],
   "source": [
    "import warnings # avoid a bunch of warnings that we'll ignore\n",
    "warnings.filterwarnings(\"ignore\")"
   ]
  },
  {
   "cell_type": "markdown",
   "metadata": {},
   "source": [
    "## Logistic regression model by Rabst\n",
    "This is a sample logistic regression model found in the internet.\n",
    "Several functions exists, I recommend to use a more robust function for real problems, such as in sklearn."
   ]
  },
  {
   "cell_type": "code",
   "execution_count": 2,
   "metadata": {
    "collapsed": true
   },
   "outputs": [],
   "source": [
    "class LogisticRegression(object):\n",
    "    \"\"\"LogisticRegression classifier from the the Rasbt machine learning book.\n",
    "\n",
    "    Parameters\n",
    "    ------------\n",
    "    eta : float\n",
    "        Learning rate (between 0.0 and 1.0)\n",
    "    n_iter : int\n",
    "        Passes over the training dataset.\n",
    "\n",
    "    Attributes\n",
    "    -----------\n",
    "    w_ : 1d-array\n",
    "        Weights after fitting.\n",
    "    cost_ : list\n",
    "        Cost in every epoch.\n",
    "\n",
    "    \"\"\"\n",
    "    def __init__(self, eta=0.01, n_iter=50):\n",
    "        self.eta = eta\n",
    "        self.n_iter = n_iter\n",
    "\n",
    "    def fit(self, X, y):\n",
    "        \"\"\" Fit training data.\n",
    "\n",
    "        Parameters\n",
    "        ----------\n",
    "        X : {array-like}, shape = [n_samples, n_features]\n",
    "            Training vectors, where n_samples is the number of samples and\n",
    "            n_features is the number of features.\n",
    "        y : array-like, shape = [n_samples]\n",
    "            Target values.\n",
    "\n",
    "        Returns\n",
    "        -------\n",
    "        self : object\n",
    "\n",
    "        \"\"\"\n",
    "        self.w_ = np.zeros(1 + X.shape[1])\n",
    "        self.cost_ = []       \n",
    "        for i in range(self.n_iter):\n",
    "            y_val = self.activation(X)\n",
    "            errors = (y - y_val)\n",
    "            neg_grad = X.T.dot(errors)\n",
    "            self.w_[1:] += self.eta * neg_grad\n",
    "            self.w_[0] += self.eta * errors.sum()\n",
    "            self.cost_.append(self._logit_cost(y, self.activation(X)))\n",
    "        return self\n",
    "\n",
    "    def _logit_cost(self, y, y_val):\n",
    "        logit = -y.dot(np.log(y_val)) - ((1 - y).dot(np.log(1 - y_val)))\n",
    "        return logit\n",
    "    \n",
    "    def _sigmoid(self, z):\n",
    "        return 1.0 / (1.0 + np.exp(-z))\n",
    "    \n",
    "    def net_input(self, X):\n",
    "        \"\"\"Calculate net input\"\"\"\n",
    "        return np.dot(X, self.w_[1:]) + self.w_[0]\n",
    "\n",
    "    def activation(self, X):\n",
    "        \"\"\" Activate the logistic neuron\"\"\"\n",
    "        z = self.net_input(X)\n",
    "        return self._sigmoid(z)\n",
    "    \n",
    "    def predict_proba(self, X):\n",
    "        \"\"\"\n",
    "        Predict class probabilities for X.\n",
    "        \n",
    "        Parameters\n",
    "        ----------\n",
    "        X : {array-like, sparse matrix}, shape = [n_samples, n_features]\n",
    "            Training vectors, where n_samples is the number of samples and\n",
    "            n_features is the number of features.\n",
    "        \n",
    "        Returns\n",
    "        ----------\n",
    "          Class 1 probability : float\n",
    "        \n",
    "        \"\"\"\n",
    "        return activation(X)\n",
    "\n",
    "    def predict(self, X):\n",
    "        \"\"\"\n",
    "        Predict class labels for X.\n",
    "        \n",
    "        Parameters\n",
    "        ----------\n",
    "        X : {array-like, sparse matrix}, shape = [n_samples, n_features]\n",
    "            Training vectors, where n_samples is the number of samples and\n",
    "            n_features is the number of features.\n",
    "        \n",
    "        Returns\n",
    "        ----------\n",
    "        class : int\n",
    "            Predicted class label.\n",
    "        \n",
    "        \"\"\"\n",
    "        # equivalent to np.where(self.activation(X) >= 0.5, 1, 0)\n",
    "        return np.where(self.net_input(X) >= 0.0, 1, 0)"
   ]
  },
  {
   "cell_type": "markdown",
   "metadata": {},
   "source": [
    "## Pandas\n",
    "Use pandas to read a database.\n",
    "\n",
    "In this example, I use the popular seed's database at the UCL site.\n",
    "In the UCL web site (https://archive.ics.uci.edu/ml/datasets.html), one can find many useful academic and real databases.\n",
    "\n"
   ]
  },
  {
   "cell_type": "code",
   "execution_count": 3,
   "metadata": {},
   "outputs": [
    {
     "name": "stderr",
     "output_type": "stream",
     "text": [
      "b'Skipping line 8: expected 8 fields, saw 10\\nSkipping line 36: expected 8 fields, saw 10\\nSkipping line 61: expected 8 fields, saw 9\\nSkipping line 69: expected 8 fields, saw 9\\nSkipping line 107: expected 8 fields, saw 9\\nSkipping line 136: expected 8 fields, saw 9\\nSkipping line 170: expected 8 fields, saw 9\\nSkipping line 171: expected 8 fields, saw 9\\nSkipping line 173: expected 8 fields, saw 9\\nSkipping line 202: expected 8 fields, saw 9\\nSkipping line 204: expected 8 fields, saw 9\\n'\n"
     ]
    },
    {
     "data": {
      "text/html": [
       "<div>\n",
       "<table border=\"1\" class=\"dataframe\">\n",
       "  <thead>\n",
       "    <tr style=\"text-align: right;\">\n",
       "      <th></th>\n",
       "      <th>area</th>\n",
       "      <th>perimeter</th>\n",
       "      <th>compactness</th>\n",
       "      <th>kernel-length</th>\n",
       "      <th>kernel-width</th>\n",
       "      <th>asymetry</th>\n",
       "      <th>kernel-groove-length</th>\n",
       "      <th>class</th>\n",
       "    </tr>\n",
       "  </thead>\n",
       "  <tbody>\n",
       "    <tr>\n",
       "      <th>0</th>\n",
       "      <td>15.26</td>\n",
       "      <td>14.84</td>\n",
       "      <td>0.8710</td>\n",
       "      <td>5.763</td>\n",
       "      <td>3.312</td>\n",
       "      <td>2.221</td>\n",
       "      <td>5.220</td>\n",
       "      <td>1</td>\n",
       "    </tr>\n",
       "    <tr>\n",
       "      <th>1</th>\n",
       "      <td>14.88</td>\n",
       "      <td>14.57</td>\n",
       "      <td>0.8811</td>\n",
       "      <td>5.554</td>\n",
       "      <td>3.333</td>\n",
       "      <td>1.018</td>\n",
       "      <td>4.956</td>\n",
       "      <td>1</td>\n",
       "    </tr>\n",
       "    <tr>\n",
       "      <th>2</th>\n",
       "      <td>14.29</td>\n",
       "      <td>14.09</td>\n",
       "      <td>0.9050</td>\n",
       "      <td>5.291</td>\n",
       "      <td>3.337</td>\n",
       "      <td>2.699</td>\n",
       "      <td>4.825</td>\n",
       "      <td>1</td>\n",
       "    </tr>\n",
       "    <tr>\n",
       "      <th>3</th>\n",
       "      <td>13.84</td>\n",
       "      <td>13.94</td>\n",
       "      <td>0.8955</td>\n",
       "      <td>5.324</td>\n",
       "      <td>3.379</td>\n",
       "      <td>2.259</td>\n",
       "      <td>4.805</td>\n",
       "      <td>1</td>\n",
       "    </tr>\n",
       "    <tr>\n",
       "      <th>4</th>\n",
       "      <td>16.14</td>\n",
       "      <td>14.99</td>\n",
       "      <td>0.9034</td>\n",
       "      <td>5.658</td>\n",
       "      <td>3.562</td>\n",
       "      <td>1.355</td>\n",
       "      <td>5.175</td>\n",
       "      <td>1</td>\n",
       "    </tr>\n",
       "  </tbody>\n",
       "</table>\n",
       "</div>"
      ],
      "text/plain": [
       "    area  perimeter  compactness  kernel-length  kernel-width  asymetry  \\\n",
       "0  15.26      14.84       0.8710          5.763         3.312     2.221   \n",
       "1  14.88      14.57       0.8811          5.554         3.333     1.018   \n",
       "2  14.29      14.09       0.9050          5.291         3.337     2.699   \n",
       "3  13.84      13.94       0.8955          5.324         3.379     2.259   \n",
       "4  16.14      14.99       0.9034          5.658         3.562     1.355   \n",
       "\n",
       "   kernel-groove-length  class  \n",
       "0                 5.220      1  \n",
       "1                 4.956      1  \n",
       "2                 4.825      1  \n",
       "3                 4.805      1  \n",
       "4                 5.175      1  "
      ]
     },
     "execution_count": 3,
     "metadata": {},
     "output_type": "execute_result"
    }
   ],
   "source": [
    "#Import data from files\n",
    "import pandas as pd\n",
    "\n",
    "#I use this dataset because this has clearly separated cathegories, \n",
    "#Read the database using pandas, \n",
    "#Note that bad lines are omitted with error_bad_lines=False\n",
    "df = pd.read_csv('https://archive.ics.uci.edu/ml/'\n",
    "        'machine-learning-databases/00236/seeds_dataset.txt', header=None, sep=\"\\t\", error_bad_lines=False)\n",
    "\n",
    "#The headers are not given in the dataset, so we give them afterwords:\n",
    "#1. area A, \n",
    "#2. perimeter P, \n",
    "#3. compactness C = 4*pi*A/P^2, \n",
    "#4. length of kernel, \n",
    "#5. width of kernel, \n",
    "#6. asymmetry coefficient \n",
    "#7. length of kernel groove. \n",
    "#8. Class: 1=Kama, 2=Rosa, 3=Canadian\n",
    "\n",
    "df.columns = [\"area\",\"perimeter\",\"compactness\",\"kernel-length\",\"kernel-width\",\n",
    "              \"asymetry\",\"kernel-groove-length\",\"class\"]\n",
    "\n",
    "#This shows the header of the database:\n",
    "df.head()\n"
   ]
  },
  {
   "cell_type": "markdown",
   "metadata": {},
   "source": [
    "We take only two classes from the dataset and we standarize features.\n",
    "\n",
    "Standarization is a common practice in machine learning algorithms to give the same weight to all features.\n",
    "\n",
    "To standarize the values of a given feature, just use:\n",
    "\n",
    "X_i = (X_i - M) / D\n",
    "\n",
    "Where X_i is a given entry, M is the statistical mean and D is the standard deviation (https://en.wikipedia.org/wiki/Standard_deviation).\n",
    "\n",
    "These functions are provided in numpy: see mean() and std()."
   ]
  },
  {
   "cell_type": "code",
   "execution_count": 4,
   "metadata": {
    "collapsed": true
   },
   "outputs": [],
   "source": [
    "#In the database there are 3 classes of seeds:\n",
    "#We will just focus on two classes: 2 and 3:\n",
    "df=df.loc[(df[\"class\"]==2) | (df[\"class\"]==3)]\n",
    "\n",
    "import numpy as np\n",
    "\n",
    "#This sets class=2 to 0 and 3 to 1:\n",
    "y = df.loc[:,'class']\n",
    "y = np.where(y == 2 , 0, 1)\n",
    "\n",
    "\n",
    "#Extract some cathegories:\n",
    "X=df.loc[:,[\"area\",\"perimeter\"]]\n",
    "#This is to convert the csv dictionary into a numpy matrix to later standarize:\n",
    "X=X.as_matrix()\n",
    "\n",
    "\n",
    "# standardize features\n",
    "X_std = np.copy(X)\n",
    "X_std[:,0] = (X[:,0] - X[:,0].mean()) / X[:,0].std()\n",
    "X_std[:,1] = (X[:,1] - X[:,1].mean()) / X[:,1].std()"
   ]
  },
  {
   "cell_type": "code",
   "execution_count": 5,
   "metadata": {
    "collapsed": true
   },
   "outputs": [],
   "source": [
    "from matplotlib.colors import ListedColormap\n",
    "\n",
    "def plot_decision_regions(X, y, classifier, resolution=0.02):\n",
    "\n",
    "    # setup marker generator and color map\n",
    "    markers = ('s', 'x', 'o', '^', 'v')\n",
    "    colors = ('red', 'blue', 'lightgreen', 'gray', 'cyan')\n",
    "    cmap = ListedColormap(colors[:len(np.unique(y))])\n",
    "\n",
    "    # plot the decision surface\n",
    "    x1_min, x1_max = X[:, 0].min() - 1, X[:, 0].max() + 1\n",
    "    x2_min, x2_max = X[:, 1].min() - 1, X[:, 1].max() + 1\n",
    "    xx1, xx2 = np.meshgrid(np.arange(x1_min, x1_max, resolution),\n",
    "                         np.arange(x2_min, x2_max, resolution))\n",
    "    Z = classifier.predict(np.array([xx1.ravel(), xx2.ravel()]).T)\n",
    "    Z = Z.reshape(xx1.shape)\n",
    "    plt.contourf(xx1, xx2, Z, alpha=0.4, cmap=cmap)\n",
    "    plt.xlim(xx1.min(), xx1.max())\n",
    "    plt.ylim(xx2.min(), xx2.max())\n",
    "\n",
    "    # plot class samples\n",
    "    for idx, cl in enumerate(np.unique(y)):\n",
    "        plt.scatter(x=X[y == cl, 0], y=X[y == cl, 1],\n",
    "                    alpha=0.8, c=cmap(idx),\n",
    "                    marker=markers[idx], label=cl)"
   ]
  },
  {
   "cell_type": "code",
   "execution_count": 9,
   "metadata": {},
   "outputs": [
    {
     "data": {
      "image/png": "[encoded data removed]",
      "text/plain": [
       "<matplotlib.figure.Figure at 0x113ffc898>"
      ]
     },
     "metadata": {},
     "output_type": "display_data"
    }
   ],
   "source": [
    "%matplotlib inline\n",
    "import matplotlib.pyplot as plt\n",
    "\n",
    "lr = LogisticRegression(n_iter=5000, eta=0.1).fit(X_std, y)\n",
    "plt.plot(range(1, len(lr.cost_) + 1), np.log10(lr.cost_))\n",
    "plt.xlabel('Samples')\n",
    "plt.ylabel('Cost')\n",
    "plt.title('Logistic Regression - Learning rate 0.01')\n",
    "\n",
    "plt.tight_layout()\n",
    "plt.show()\n",
    "#You can see that the logistic regression algorithm converges nicely:"
   ]
  },
  {
   "cell_type": "code",
   "execution_count": 7,
   "metadata": {},
   "outputs": [
    {
     "data": {
      "image/png": "[encoded data removed]",
      "text/plain": [
       "<matplotlib.figure.Figure at 0x110c9bcf8>"
      ]
     },
     "metadata": {},
     "output_type": "display_data"
    }
   ],
   "source": [
    "#Finally we plot the decision boundary:\n",
    "plot_decision_regions(X_std, y, classifier=lr)\n",
    "plt.title('Logistic Regression - Gradient Descent')\n",
    "plt.xlabel('Area [standardized]')\n",
    "plt.ylabel('Perimeter [standardized]')\n",
    "plt.legend(loc='upper left')\n",
    "plt.tight_layout()"
   ]
  }
 ],
 "metadata": {
  "kernelspec": {
   "display_name": "Python 3",
   "language": "python",
   "name": "python3"
  },
  "language_info": {
   "codemirror_mode": {
    "name": "ipython",
    "version": 3
   },
   "file_extension": ".py",
   "mimetype": "text/x-python",
   "name": "python",
   "nbconvert_exporter": "python",
   "pygments_lexer": "ipython3",
   "version": "3.6.1"
  }
 },
 "nbformat": 4,
 "nbformat_minor": 2
}
